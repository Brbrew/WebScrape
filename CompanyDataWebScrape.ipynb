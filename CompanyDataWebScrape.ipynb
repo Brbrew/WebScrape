{
 "cells": [
  {
   "cell_type": "markdown",
   "metadata": {},
   "source": [
    "# Web Scraping and Geocoding With Python\n",
    "This is just a fun side project to demonstrate web scraping basics and geocoding. \n",
    "\n",
    "The first part of the application starts with a basic list of companies, goes out to [Google Finance](https://www.google.com/finance) and pulls down address information in addition to other key financial information.\n",
    "\n",
    "Once all of the key addresses have been loaded, the next step is to bounce those addresses against [Google Maps Geocoding API](https://developers.google.com/maps/documentation/geocoding/intro) to pull in Latitude and Longitude. \n",
    "\n",
    "The last part is to take that data, create a basic scatter plot in Bokeh, and then overlays that plot on top of a Google Map."
   ]
  },
  {
   "cell_type": "markdown",
   "metadata": {},
   "source": [
    "## Key Libraries Used\n",
    "+ [Pandas](http://pandas.pydata.org/)\n",
    "+ [Requests](http://docs.python-requests.org/en/master/)\n",
    "+ [Beautiful Soup](https://www.crummy.com/software/BeautifulSoup/bs4/doc/)\n",
    "+ [Bokeh](http://bokeh.pydata.org/en/latest/)\n",
    "\n",
    "----"
   ]
  },
  {
   "cell_type": "markdown",
   "metadata": {},
   "source": [
    "Library import for web scraping and geocoding"
   ]
  },
  {
   "cell_type": "code",
   "execution_count": 1,
   "metadata": {
    "collapsed": true
   },
   "outputs": [],
   "source": [
    "import pandas as pd\n",
    "from lxml import html\n",
    "import requests\n",
    "import bs4\n",
    "from collections import OrderedDict\n",
    "from copy import deepcopy"
   ]
  },
  {
   "cell_type": "markdown",
   "metadata": {},
   "source": [
    "Import a previously constructed list of companies, names only, into a Pandas dataframe."
   ]
  },
  {
   "cell_type": "code",
   "execution_count": 2,
   "metadata": {
    "collapsed": false
   },
   "outputs": [],
   "source": [
    "df_company = pd.read_csv(\"data/companylist.csv\")"
   ]
  },
  {
   "cell_type": "markdown",
   "metadata": {},
   "source": [
    "Next is just a quick check to validate the first few records were loaded succesfully."
   ]
  },
  {
   "cell_type": "code",
   "execution_count": 3,
   "metadata": {
    "collapsed": false
   },
   "outputs": [
    {
     "data": {
      "text/html": [
       "<div>\n",
       "<table border=\"1\" class=\"dataframe\">\n",
       "  <thead>\n",
       "    <tr style=\"text-align: right;\">\n",
       "      <th></th>\n",
       "      <th>CompanyName</th>\n",
       "    </tr>\n",
       "  </thead>\n",
       "  <tbody>\n",
       "    <tr>\n",
       "      <th>0</th>\n",
       "      <td>ACUITY Insurance</td>\n",
       "    </tr>\n",
       "    <tr>\n",
       "      <th>1</th>\n",
       "      <td>ADBE</td>\n",
       "    </tr>\n",
       "    <tr>\n",
       "      <th>2</th>\n",
       "      <td>ADSK</td>\n",
       "    </tr>\n",
       "    <tr>\n",
       "      <th>3</th>\n",
       "      <td>ARI, Automotive Resources International</td>\n",
       "    </tr>\n",
       "    <tr>\n",
       "      <th>4</th>\n",
       "      <td>ATVI</td>\n",
       "    </tr>\n",
       "  </tbody>\n",
       "</table>\n",
       "</div>"
      ],
      "text/plain": [
       "                               CompanyName\n",
       "0                         ACUITY Insurance\n",
       "1                                     ADBE\n",
       "2                                     ADSK\n",
       "3  ARI, Automotive Resources International\n",
       "4                                     ATVI"
      ]
     },
     "execution_count": 3,
     "metadata": {},
     "output_type": "execute_result"
    }
   ],
   "source": [
    "df_company.head(5)"
   ]
  },
  {
   "cell_type": "markdown",
   "metadata": {},
   "source": [
    "Since this is more of a *row based* operation rather than *set based*, the dataframe is converted into a list. There are more effecient ways to to this, but for the moment \"practicality beats purity...\"."
   ]
  },
  {
   "cell_type": "code",
   "execution_count": 4,
   "metadata": {
    "collapsed": false
   },
   "outputs": [],
   "source": [
    "companylist = sorted(set(df_company[\"CompanyName\"].tolist()))"
   ]
  },
  {
   "cell_type": "markdown",
   "metadata": {},
   "source": [
    "Since there is no guaranteed list of fields to be returned, some values may be empty, or not even present on the data returend from the web page.\n",
    "\n",
    "Therefore, a basic list of fields is created, and populated when present. If not, the value will remain empty. This allows for the easy construction back into a dataframe later."
   ]
  },
  {
   "cell_type": "code",
   "execution_count": 5,
   "metadata": {
    "collapsed": true
   },
   "outputs": [],
   "source": [
    "#base field set\n",
    "fields = [\"companyName\"\n",
    "          ,\"exchange\"\n",
    "          ,\"symbol\"\n",
    "          ,\"companySummary\"\n",
    "          ,\"management\"\n",
    "          ,\"website\"\n",
    "          ,\"address\"\n",
    "          ,\"city\"\n",
    "          ,\"state\"\n",
    "          ,\"zip\"\n",
    "          ,\"lat\"\n",
    "          ,\"lng\"]"
   ]
  },
  {
   "cell_type": "markdown",
   "metadata": {},
   "source": [
    "The primary loop below does the majority of the work. Since it's web scraping and passing data back and forth to external URls, it can take time. Please see comments for details."
   ]
  },
  {
   "cell_type": "code",
   "execution_count": 6,
   "metadata": {
    "collapsed": false
   },
   "outputs": [],
   "source": [
    "companydata = [] #List of dictionary items\n",
    "\n",
    "for index, item in enumerate(companylist):\n",
    "    \n",
    "    #Printing if only to know where in the process the system.\n",
    "    print(\"Searching for - \",item)\n",
    "    \n",
    "    #Dynamically created URL based on company name\n",
    "    import_url = \"https://www.google.com/finance?q=%s\" % item \n",
    "    \n",
    "    #URL used for geo coding\n",
    "    geo_url = \"https://maps.googleapis.com/maps/api/geocode/json\"\n",
    "    \n",
    "    #response header to grab data\n",
    "    response = requests.get(import_url)\n",
    "    \n",
    "    #interprets XML/HTML using the LXML toolkit\n",
    "    soup = bs4.BeautifulSoup(response.text,\"lxml\")\n",
    "    \n",
    "    #empty dictionary to store \n",
    "    companydict = {}\n",
    "    \n",
    "    #Basic variables for temp storage\n",
    "    companyName = \"\"\n",
    "    exchange = \"\"\n",
    "    symbol = \"\"\n",
    "    companySummary = \"\" \n",
    "    companydict['lat'] = \"\"\n",
    "    companydict['lng'] = \"\"\n",
    "    full_address = \"\"\n",
    "    \n",
    "    #grabs the page header\n",
    "    header = soup.title.text.split(\":\")\n",
    "\n",
    "    #base attributes\n",
    "    if len(header) >= 1:\n",
    "        companyName = header[0].rstrip()                \n",
    "    if len(header) >= 2:      \n",
    "        exchange = header[1].rstrip()\n",
    "    if len(header) >= 3:      \n",
    "        symbol = header[2].replace('\\n', '').split(\" \")[0].rstrip()\n",
    "\n",
    "    #company summary\n",
    "    #Private companies only have a basic summary, but this can still capture that\n",
    "    companySummarySelect = soup.select('.companySummary')\n",
    "    if len(companySummarySelect) >= 1:\n",
    "        companySummary = companySummarySelect[0].text.rstrip()    \n",
    "        companySummary = companySummary.replace('More from Reuters »', '')\n",
    "        companySummary = companySummary.replace('\\n', ' ')\n",
    "        companySummary = companySummary.replace('\\r', '')\n",
    "        companySummary = companySummary.strip().rstrip()\n",
    "    \n",
    "    #Validate company exists on public exchange or there is at least a summary\n",
    "    if exchange == \"NASDAQ\" or exchange == \"NYSE\" or len(companySummary) > 0:        \n",
    "        \n",
    "        #print(\"    Found - \",companyName)\n",
    "\n",
    "        companydict['companyName'] = companyName\n",
    "        companydict['exchange'] = exchange\n",
    "        companydict['symbol'] = symbol\n",
    "        #companydict['companySummary'] = companySummary\n",
    "        \n",
    "        #Address \n",
    "        #Looking at patterns within specific tag structures to pull out address information\n",
    "        address_text = soup.find(text=\"Address\")\n",
    "        if address_text != None:\n",
    "            address_div = address_text.parent.findNext('div')\n",
    "            if address_div != None:\n",
    "                address_contents = address_div.contents\n",
    "                for idx,item in enumerate(address_contents):\n",
    "                    if idx == 0:\n",
    "                        companydict['address'] = item.rstrip()\n",
    "                    if idx == 2:\n",
    "                        companydict['city'] = item.split(\",\")[0].rstrip()\n",
    "                        if len(item.split(\",\")) >= 2:\n",
    "                            companydict['state'] = item.split(\",\")[1].split(\" \")[1].rstrip()\n",
    "                            if len(item.split(\",\")[1].split(\" \")) >= 3:\n",
    "                                companydict['zip'] = item.split(\",\")[1].split(\" \")[2].rstrip()\n",
    "        \n",
    "       \n",
    "        \n",
    "        #Geocode valid address\n",
    "        if len(companydict['address']) > 0 and set(['city','state','zip']).issubset(set(companydict.keys())):\n",
    "            \n",
    "            full_address = companydict['address'] + ' ' + companydict['city'] + ', ' + companydict['state'] + ' ' +companydict['zip']\n",
    "            #print(\"Geocoding \",full_address)                       \n",
    "            \n",
    "            params = {'sensor': 'false', 'address': full_address}            \n",
    "            r = requests.get(geo_url, params=params)\n",
    "            results = r.json()['results']\n",
    "            if len(results) > 0:\n",
    "                location = results[0]['geometry']['location']                \n",
    "                companydict['lat'] = location['lat']\n",
    "                companydict['lng'] = location['lng']\n",
    "                #print(location['lat'],location['lng'])\n",
    "            \n",
    "\n",
    "        #website\n",
    "        webtext = soup.find(text=\"Website links\") \n",
    "        if webtext != None:\n",
    "            url_link = soup.find(text=\"Website links\").parent.findNext('a')\n",
    "            if  url_link != None:\n",
    "                website = url_link.text.rstrip()                \n",
    "                website = website.replace('\\n', ' ')\n",
    "                website = website.replace('\\r', '')\n",
    "                website = website.strip().rstrip()\n",
    "                \n",
    "                companydict['website']  = website\n",
    "        \n",
    "        #key stats\n",
    "        #EBITD / Net Profit Margin / etc.\n",
    "        market_list = soup.select('.lft')\n",
    "        for idx,item in enumerate(market_list):      \n",
    "            if len(item.text.rstrip()) > 0:\n",
    "                fields.append(item.text.rstrip())\n",
    "                companydict[item.text.rstrip()] = item.findNext('td').text.rstrip()\n",
    "\n",
    "        #current pricing info (EPS/Range/52 Week High)\n",
    "        attrib_list = soup.select(\".key\")\n",
    "        for idx, item in enumerate(attrib_list):  \n",
    "            if len(item.text.rstrip()) > 0:\n",
    "                fields.append(item.text.rstrip())\n",
    "                companydict[item.text.rstrip()] = item.findNext('td').text.rstrip()\n",
    "                \n",
    "        #mgmt-section        \n",
    "        mgmt_section = soup.select('.id-mgmt-table')\n",
    "        \n",
    "        if len(mgmt_section) > 0:\n",
    "            mgmt = mgmt_section[0].findAll('tr')\n",
    "\n",
    "            management = []\n",
    "            for idx,tblrow in enumerate(mgmt):\n",
    "                if \"style\" not in tblrow.attrs:        \n",
    "                    rowdata = tblrow.findAll('td')\n",
    "                    cexec = \"\"\n",
    "                    ctitle = \"\"\n",
    "                    for idx,tbldata in enumerate(rowdata):           \n",
    "                        if \"class\" in tbldata.attrs:         \n",
    "                            if \"linkbtn\" in tbldata.attrs[\"class\"]:\n",
    "                                cexec = tbldata.text.rstrip()\n",
    "                            if \"t\" in tbldata.attrs[\"class\"]:\n",
    "                                ctitle = tbldata.text.rstrip()\n",
    "                    if len(cexec) > 0:\n",
    "                        management.append(cexec + \":\" + ctitle)\n",
    "            \n",
    "            #This is left out for now; future goal is to create a graph database of Corporate Interlocks\n",
    "                        \n",
    "            if len(management) > 0:            \n",
    "                #companydict[\"management\"] = management\n",
    "                pass\n",
    "        \n",
    "        #Add item to list\n",
    "        companydata.append(companydict)\n",
    "            \n",
    "    else:\n",
    "        #print(\"    \",item,\" - not found\")\n",
    "        companydict['companyName'] = item"
   ]
  },
  {
   "cell_type": "markdown",
   "metadata": {},
   "source": [
    "###  Align and populate\n",
    "\n",
    "Since not all data returned has all fields populated, or even in the same order, this applies a list of fields to all \n",
    "values, in order. If the field is populated, it updates the list. This ensures that the final set is aligned for output in the dataframe. \n",
    "\n",
    "Here, deecopy() is used to copy empty fields references which are then populated as available. \n",
    "\n",
    "Looking at the official Python [documentation](https://docs.python.org/3/library/copy.html) \n",
    "The difference between shallow and deep copying is only relevant for compound objects (objects that contain other objects, like lists or class instances):\n",
    "\n",
    "+ A shallow copy constructs a new compound object and then (to the extent possible) inserts references into it to the objects found in the original.\n",
    "+ A deep copy constructs a new compound object and then, recursively, inserts copies into it of the objects found in the original."
   ]
  },
  {
   "cell_type": "code",
   "execution_count": 7,
   "metadata": {
    "collapsed": false
   },
   "outputs": [],
   "source": [
    "#Create distinct, sorted list of all fields pulled\n",
    "field_set = sorted(set(fields))\n",
    "companydata_sorted = []\n",
    "\n",
    "#remove empty field\n",
    "if '' in field_set:\n",
    "    field_set.remove('')\n",
    "\n",
    "#creates ordered dict\n",
    "field_dict = OrderedDict()\n",
    "\n",
    "#emptys ordered dict\n",
    "for idx,field in enumerate(field_set):    \n",
    "    field_dict[field] = \"\"\n",
    "\n",
    "for idx,company_data in enumerate(companydata):\n",
    "    #print(company_data['company'])\n",
    "    tmp_dict = deepcopy(field_dict)   \n",
    "    for idx,field in enumerate(company_data):\n",
    "        if field in tmp_dict:\n",
    "            tmp_dict[field] = company_data[field]\n",
    "            \n",
    "    companydata_sorted.append(tmp_dict)  "
   ]
  },
  {
   "cell_type": "code",
   "execution_count": 8,
   "metadata": {
    "collapsed": false
   },
   "outputs": [],
   "source": [
    "#print(companydata_sorted)\n",
    "df = pd.DataFrame(companydata_sorted)"
   ]
  },
  {
   "cell_type": "code",
   "execution_count": 9,
   "metadata": {
    "collapsed": false
   },
   "outputs": [],
   "source": [
    "df_valid = df[(df['lat'].str.contains(\"\")!=True) & (df['lng'].str.contains(\"\")!=True)]"
   ]
  },
  {
   "cell_type": "code",
   "execution_count": 10,
   "metadata": {
    "collapsed": false
   },
   "outputs": [],
   "source": [
    "#use variables here to easily change as needed\n",
    "max_lng = -120\n",
    "min_lng = -123\n",
    "max_lat = 39.0\n",
    "min_lat = 37.0\n",
    "\n",
    "#only companies in SF Bay Area\n",
    "df_sf = df_valid[(df_valid['lat']<=max_lat) \n",
    "                 & (df_valid['lat']>=min_lat) \n",
    "                 & (df_valid['lng']<=max_lng) \n",
    "                 & (df_valid['lng']>=min_lng)]"
   ]
  },
  {
   "cell_type": "code",
   "execution_count": 11,
   "metadata": {
    "collapsed": false
   },
   "outputs": [
    {
     "data": {
      "text/html": [
       "<div>\n",
       "<table border=\"1\" class=\"dataframe\">\n",
       "  <thead>\n",
       "    <tr style=\"text-align: right;\">\n",
       "      <th></th>\n",
       "      <th>companyName</th>\n",
       "      <th>address</th>\n",
       "      <th>city</th>\n",
       "      <th>state</th>\n",
       "      <th>zip</th>\n",
       "      <th>lat</th>\n",
       "      <th>lng</th>\n",
       "    </tr>\n",
       "  </thead>\n",
       "  <tbody>\n",
       "    <tr>\n",
       "      <th>0</th>\n",
       "      <td>Adobe Systems Incorporated</td>\n",
       "      <td>345 PARK AVE</td>\n",
       "      <td>SAN JOSE</td>\n",
       "      <td>CA</td>\n",
       "      <td>95110-2704</td>\n",
       "      <td>37.3307</td>\n",
       "      <td>-121.894</td>\n",
       "    </tr>\n",
       "    <tr>\n",
       "      <th>1</th>\n",
       "      <td>Autodesk, Inc.</td>\n",
       "      <td>111 MCINNIS PKWY</td>\n",
       "      <td>SAN RAFAEL</td>\n",
       "      <td>CA</td>\n",
       "      <td>94903</td>\n",
       "      <td>38.0055</td>\n",
       "      <td>-122.531</td>\n",
       "    </tr>\n",
       "    <tr>\n",
       "      <th>4</th>\n",
       "      <td>Advanced Micro Devices, Inc.</td>\n",
       "      <td>1 Amd Pl MS 68</td>\n",
       "      <td>SUNNYVALE</td>\n",
       "      <td>CA</td>\n",
       "      <td>94085-3905</td>\n",
       "      <td>37.3895</td>\n",
       "      <td>-122.018</td>\n",
       "    </tr>\n",
       "    <tr>\n",
       "      <th>6</th>\n",
       "      <td>Agilent Technologies Inc</td>\n",
       "      <td>5301 Stevens Creek Blvd</td>\n",
       "      <td>SANTA CLARA</td>\n",
       "      <td>CA</td>\n",
       "      <td>95051-7201</td>\n",
       "      <td>37.3249</td>\n",
       "      <td>-121.999</td>\n",
       "    </tr>\n",
       "    <tr>\n",
       "      <th>9</th>\n",
       "      <td>Apple Inc.</td>\n",
       "      <td>1 Infinite Loop</td>\n",
       "      <td>CUPERTINO</td>\n",
       "      <td>CA</td>\n",
       "      <td>95014-2083</td>\n",
       "      <td>37.3317</td>\n",
       "      <td>-122.03</td>\n",
       "    </tr>\n",
       "    <tr>\n",
       "      <th>12</th>\n",
       "      <td>Brocade Communications Systems, Inc.</td>\n",
       "      <td>130 Holger Way</td>\n",
       "      <td>SAN JOSE</td>\n",
       "      <td>CA</td>\n",
       "      <td>95134</td>\n",
       "      <td>37.4185</td>\n",
       "      <td>-121.952</td>\n",
       "    </tr>\n",
       "    <tr>\n",
       "      <th>19</th>\n",
       "      <td>Cisco Systems, Inc.</td>\n",
       "      <td>170 W Tasman Dr</td>\n",
       "      <td>SAN JOSE</td>\n",
       "      <td>CA</td>\n",
       "      <td>95134-1706</td>\n",
       "      <td>37.4084</td>\n",
       "      <td>-121.954</td>\n",
       "    </tr>\n",
       "    <tr>\n",
       "      <th>21</th>\n",
       "      <td>Chevron Corporation</td>\n",
       "      <td>6001 Bollinger Canyon Rd</td>\n",
       "      <td>SAN RAMON</td>\n",
       "      <td>CA</td>\n",
       "      <td>94583-2324</td>\n",
       "      <td>37.7583</td>\n",
       "      <td>-121.958</td>\n",
       "    </tr>\n",
       "    <tr>\n",
       "      <th>29</th>\n",
       "      <td>Cooley LLP</td>\n",
       "      <td>3175 Hanover St</td>\n",
       "      <td>Palo Alto</td>\n",
       "      <td>CA</td>\n",
       "      <td>94304-1130</td>\n",
       "      <td>37.4146</td>\n",
       "      <td>-122.142</td>\n",
       "    </tr>\n",
       "    <tr>\n",
       "      <th>34</th>\n",
       "      <td>Electronic Arts Inc.</td>\n",
       "      <td>209 Redwood Shores Pkwy</td>\n",
       "      <td>REDWOOD CITY</td>\n",
       "      <td>CA</td>\n",
       "      <td>94065-1175</td>\n",
       "      <td>37.5233</td>\n",
       "      <td>-122.254</td>\n",
       "    </tr>\n",
       "  </tbody>\n",
       "</table>\n",
       "</div>"
      ],
      "text/plain": [
       "                             companyName                   address  \\\n",
       "0             Adobe Systems Incorporated              345 PARK AVE   \n",
       "1                         Autodesk, Inc.          111 MCINNIS PKWY   \n",
       "4           Advanced Micro Devices, Inc.            1 Amd Pl MS 68   \n",
       "6               Agilent Technologies Inc   5301 Stevens Creek Blvd   \n",
       "9                             Apple Inc.           1 Infinite Loop   \n",
       "12  Brocade Communications Systems, Inc.            130 Holger Way   \n",
       "19                   Cisco Systems, Inc.           170 W Tasman Dr   \n",
       "21                   Chevron Corporation  6001 Bollinger Canyon Rd   \n",
       "29                            Cooley LLP           3175 Hanover St   \n",
       "34                  Electronic Arts Inc.   209 Redwood Shores Pkwy   \n",
       "\n",
       "            city state         zip      lat      lng  \n",
       "0       SAN JOSE    CA  95110-2704  37.3307 -121.894  \n",
       "1     SAN RAFAEL    CA       94903  38.0055 -122.531  \n",
       "4      SUNNYVALE    CA  94085-3905  37.3895 -122.018  \n",
       "6    SANTA CLARA    CA  95051-7201  37.3249 -121.999  \n",
       "9      CUPERTINO    CA  95014-2083  37.3317  -122.03  \n",
       "12      SAN JOSE    CA       95134  37.4185 -121.952  \n",
       "19      SAN JOSE    CA  95134-1706  37.4084 -121.954  \n",
       "21     SAN RAMON    CA  94583-2324  37.7583 -121.958  \n",
       "29     Palo Alto    CA  94304-1130  37.4146 -122.142  \n",
       "34  REDWOOD CITY    CA  94065-1175  37.5233 -122.254  "
      ]
     },
     "execution_count": 11,
     "metadata": {},
     "output_type": "execute_result"
    }
   ],
   "source": [
    "df_sf[['companyName','address','city','state','zip','lat','lng']].head(10)"
   ]
  },
  {
   "cell_type": "markdown",
   "metadata": {},
   "source": [
    "### Import Bokeh library and models"
   ]
  },
  {
   "cell_type": "code",
   "execution_count": 13,
   "metadata": {
    "collapsed": false
   },
   "outputs": [],
   "source": [
    "from bokeh.io import output_notebook, show\n",
    "from bokeh.plotting import figure\n",
    "from bokeh.models import (\n",
    "  GMapPlot, GMapOptions, ColumnDataSource, Circle, DataRange1d, PanTool, WheelZoomTool, BoxSelectTool, HoverTool, ResetTool\n",
    ")"
   ]
  },
  {
   "cell_type": "markdown",
   "metadata": {},
   "source": [
    "### Output Bokeh to the notebook\n",
    "This tells Bokeh to output to the notebook rather than to an HTML file."
   ]
  },
  {
   "cell_type": "code",
   "execution_count": 14,
   "metadata": {
    "collapsed": false
   },
   "outputs": [
    {
     "data": {
      "text/html": [
       "\n",
       "    <div class=\"bk-banner\">\n",
       "        <a href=\"http://bokeh.pydata.org\" target=\"_blank\" class=\"bk-logo bk-logo-small bk-logo-notebook\"></a>\n",
       "        <span id=\"81ef1fd8-62bd-4d77-a58d-6647aaf82c56\">Loading BokehJS ...</span>\n",
       "    </div>"
      ]
     },
     "metadata": {},
     "output_type": "display_data"
    },
    {
     "data": {
      "application/javascript": [
       "\n",
       "(function(global) {\n",
       "  function now() {\n",
       "    return new Date();\n",
       "  }\n",
       "\n",
       "  if (typeof (window._bokeh_onload_callbacks) === \"undefined\") {\n",
       "    window._bokeh_onload_callbacks = [];\n",
       "  }\n",
       "\n",
       "  function run_callbacks() {\n",
       "    window._bokeh_onload_callbacks.forEach(function(callback) { callback() });\n",
       "    delete window._bokeh_onload_callbacks\n",
       "    console.info(\"Bokeh: all callbacks have finished\");\n",
       "  }\n",
       "\n",
       "  function load_libs(js_urls, callback) {\n",
       "    window._bokeh_onload_callbacks.push(callback);\n",
       "    if (window._bokeh_is_loading > 0) {\n",
       "      console.log(\"Bokeh: BokehJS is being loaded, scheduling callback at\", now());\n",
       "      return null;\n",
       "    }\n",
       "    if (js_urls == null || js_urls.length === 0) {\n",
       "      run_callbacks();\n",
       "      return null;\n",
       "    }\n",
       "    console.log(\"Bokeh: BokehJS not loaded, scheduling load and callback at\", now());\n",
       "    window._bokeh_is_loading = js_urls.length;\n",
       "    for (var i = 0; i < js_urls.length; i++) {\n",
       "      var url = js_urls[i];\n",
       "      var s = document.createElement('script');\n",
       "      s.src = url;\n",
       "      s.async = false;\n",
       "      s.onreadystatechange = s.onload = function() {\n",
       "        window._bokeh_is_loading--;\n",
       "        if (window._bokeh_is_loading === 0) {\n",
       "          console.log(\"Bokeh: all BokehJS libraries loaded\");\n",
       "          run_callbacks()\n",
       "        }\n",
       "      };\n",
       "      s.onerror = function() {\n",
       "        console.warn(\"failed to load library \" + url);\n",
       "      };\n",
       "      console.log(\"Bokeh: injecting script tag for BokehJS library: \", url);\n",
       "      document.getElementsByTagName(\"head\")[0].appendChild(s);\n",
       "    }\n",
       "  };\n",
       "\n",
       "  var js_urls = ['https://cdn.pydata.org/bokeh/release/bokeh-0.11.1.min.js', 'https://cdn.pydata.org/bokeh/release/bokeh-widgets-0.11.1.min.js', 'https://cdn.pydata.org/bokeh/release/bokeh-compiler-0.11.1.min.js'];\n",
       "\n",
       "  var inline_js = [\n",
       "    function(Bokeh) {\n",
       "      Bokeh.set_log_level(\"info\");\n",
       "    },\n",
       "    \n",
       "    function(Bokeh) {\n",
       "      Bokeh.$(\"#81ef1fd8-62bd-4d77-a58d-6647aaf82c56\").text(\"BokehJS successfully loaded\");\n",
       "    },\n",
       "    function(Bokeh) {\n",
       "      console.log(\"Bokeh: injecting CSS: https://cdn.pydata.org/bokeh/release/bokeh-0.11.1.min.css\");\n",
       "      Bokeh.embed.inject_css(\"https://cdn.pydata.org/bokeh/release/bokeh-0.11.1.min.css\");\n",
       "      console.log(\"Bokeh: injecting CSS: https://cdn.pydata.org/bokeh/release/bokeh-widgets-0.11.1.min.css\");\n",
       "      Bokeh.embed.inject_css(\"https://cdn.pydata.org/bokeh/release/bokeh-widgets-0.11.1.min.css\");\n",
       "    }\n",
       "  ];\n",
       "\n",
       "  function run_inline_js() {\n",
       "    for (var i = 0; i < inline_js.length; i++) {\n",
       "      inline_js[i](window.Bokeh);\n",
       "    }\n",
       "  }\n",
       "\n",
       "  if (window._bokeh_is_loading === 0) {\n",
       "    console.log(\"Bokeh: BokehJS loaded, going straight to plotting\");\n",
       "    run_inline_js();\n",
       "  } else {\n",
       "    load_libs(js_urls, function() {\n",
       "      console.log(\"Bokeh: BokehJS plotting callback run at\", now());\n",
       "      run_inline_js();\n",
       "    });\n",
       "  }\n",
       "}(this));"
      ]
     },
     "metadata": {},
     "output_type": "display_data"
    }
   ],
   "source": [
    "output_notebook()"
   ]
  },
  {
   "cell_type": "code",
   "execution_count": 30,
   "metadata": {
    "collapsed": false
   },
   "outputs": [
    {
     "data": {
      "text/plain": [
       "<bokeh.models.renderers.GlyphRenderer at 0x7fe9011ad4e0>"
      ]
     },
     "execution_count": 30,
     "metadata": {},
     "output_type": "execute_result"
    }
   ],
   "source": [
    "source = ColumnDataSource(\n",
    "    data=dict(\n",
    "        lat = df_sf['lat'].tolist(), \n",
    "        lng = df_sf['lng'].tolist(),  \n",
    "        company = df_sf['companyName'].tolist(),  \n",
    "    )\n",
    ")\n",
    "\n",
    "hover = HoverTool(\n",
    "        tooltips=[          \n",
    "           (\"Company \", \"@company\"),\n",
    "        ]\n",
    "    )\n",
    "\n",
    "p = figure(plot_width=600, plot_height=400, tools=[hover,PanTool()],\n",
    "           title=\"Scatter Plot of geographical locations\")\n",
    "\n",
    "p.circle('lat', 'lng', size=10, source=source)"
   ]
  },
  {
   "cell_type": "markdown",
   "metadata": {},
   "source": [
    "### Show the plot"
   ]
  },
  {
   "cell_type": "code",
   "execution_count": 31,
   "metadata": {
    "collapsed": false
   },
   "outputs": [
    {
     "data": {
      "text/html": [
       "\n",
       "\n",
       "    <div class=\"plotdiv\" id=\"d8efab71-fe87-4867-81ae-562ca9e5f389\"></div>\n",
       "<script type=\"text/javascript\">\n",
       "  \n",
       "  (function(global) {\n",
       "    function now() {\n",
       "      return new Date();\n",
       "    }\n",
       "  \n",
       "    if (typeof (window._bokeh_onload_callbacks) === \"undefined\") {\n",
       "      window._bokeh_onload_callbacks = [];\n",
       "    }\n",
       "  \n",
       "    function run_callbacks() {\n",
       "      window._bokeh_onload_callbacks.forEach(function(callback) { callback() });\n",
       "      delete window._bokeh_onload_callbacks\n",
       "      console.info(\"Bokeh: all callbacks have finished\");\n",
       "    }\n",
       "  \n",
       "    function load_libs(js_urls, callback) {\n",
       "      window._bokeh_onload_callbacks.push(callback);\n",
       "      if (window._bokeh_is_loading > 0) {\n",
       "        console.log(\"Bokeh: BokehJS is being loaded, scheduling callback at\", now());\n",
       "        return null;\n",
       "      }\n",
       "      if (js_urls == null || js_urls.length === 0) {\n",
       "        run_callbacks();\n",
       "        return null;\n",
       "      }\n",
       "      console.log(\"Bokeh: BokehJS not loaded, scheduling load and callback at\", now());\n",
       "      window._bokeh_is_loading = js_urls.length;\n",
       "      for (var i = 0; i < js_urls.length; i++) {\n",
       "        var url = js_urls[i];\n",
       "        var s = document.createElement('script');\n",
       "        s.src = url;\n",
       "        s.async = false;\n",
       "        s.onreadystatechange = s.onload = function() {\n",
       "          window._bokeh_is_loading--;\n",
       "          if (window._bokeh_is_loading === 0) {\n",
       "            console.log(\"Bokeh: all BokehJS libraries loaded\");\n",
       "            run_callbacks()\n",
       "          }\n",
       "        };\n",
       "        s.onerror = function() {\n",
       "          console.warn(\"failed to load library \" + url);\n",
       "        };\n",
       "        console.log(\"Bokeh: injecting script tag for BokehJS library: \", url);\n",
       "        document.getElementsByTagName(\"head\")[0].appendChild(s);\n",
       "      }\n",
       "    };var element = document.getElementById(\"d8efab71-fe87-4867-81ae-562ca9e5f389\");\n",
       "    if (element == null) {\n",
       "      console.log(\"Bokeh: ERROR: autoload.js configured with elementid 'd8efab71-fe87-4867-81ae-562ca9e5f389' but no matching script tag was found. \")\n",
       "      return false;\n",
       "    }\n",
       "  \n",
       "    var js_urls = [];\n",
       "  \n",
       "    var inline_js = [\n",
       "      function(Bokeh) {\n",
       "        Bokeh.$(function() {\n",
       "            var docs_json = {\"1370c9d9-38c7-4996-b3e7-c712aac82871\":{\"roots\":{\"references\":[{\"attributes\":{\"dimension\":1,\"plot\":{\"id\":\"5376225c-80bd-4f2d-8357-a7a4c1f5c1d1\",\"subtype\":\"Figure\",\"type\":\"Plot\"},\"ticker\":{\"id\":\"b8746e08-008e-44bb-be53-d014c4d1190c\",\"type\":\"BasicTicker\"}},\"id\":\"0c80fa7a-a07f-4860-92be-490739acfa62\",\"type\":\"Grid\"},{\"attributes\":{\"plot\":{\"id\":\"77be27a9-8c54-49de-b20a-e74e8256b220\",\"subtype\":\"Figure\",\"type\":\"Plot\"}},\"id\":\"bf5f3b58-86ce-40a3-bc03-a891e9dc967b\",\"type\":\"PanTool\"},{\"attributes\":{\"callback\":null},\"id\":\"39f777d0-7335-4355-a889-7bf7cef18190\",\"type\":\"DataRange1d\"},{\"attributes\":{\"below\":[{\"id\":\"d140abc7-57bd-4865-b079-2428888a92ee\",\"type\":\"LinearAxis\"}],\"left\":[{\"id\":\"cfefb446-b54f-48e9-8af4-35b13d56a2a5\",\"type\":\"LinearAxis\"}],\"plot_height\":400,\"plot_width\":400,\"renderers\":[{\"id\":\"d140abc7-57bd-4865-b079-2428888a92ee\",\"type\":\"LinearAxis\"},{\"id\":\"dd7793e8-4d87-4ed7-aeb4-a57509c3b18c\",\"type\":\"Grid\"},{\"id\":\"cfefb446-b54f-48e9-8af4-35b13d56a2a5\",\"type\":\"LinearAxis\"},{\"id\":\"9a1da9b9-0287-4624-9622-7a9fc4998169\",\"type\":\"Grid\"},{\"id\":\"a630e44d-a448-4680-afb6-2c594222abd9\",\"type\":\"GlyphRenderer\"}],\"title\":\"Scatter Plot of geographical locations\",\"tool_events\":{\"id\":\"35ecb322-38b6-42c0-b065-e99da79d1f85\",\"type\":\"ToolEvents\"},\"tools\":[{\"id\":\"aef7ea44-7ce1-4216-8d81-747338e1b0ad\",\"type\":\"HoverTool\"}],\"x_range\":{\"id\":\"a980b411-ce7b-4372-9152-f6d5a7e8ad1c\",\"type\":\"DataRange1d\"},\"y_range\":{\"id\":\"f97f509a-06d1-4d19-882c-a398aa24ebdb\",\"type\":\"DataRange1d\"}},\"id\":\"bd4aefaa-bf4d-446e-963c-8e6f3a7645ff\",\"subtype\":\"Figure\",\"type\":\"Plot\"},{\"attributes\":{\"formatter\":{\"id\":\"9e7aca82-a7cd-485e-b4aa-71decd7eff4d\",\"type\":\"BasicTickFormatter\"},\"plot\":{\"id\":\"bd4aefaa-bf4d-446e-963c-8e6f3a7645ff\",\"subtype\":\"Figure\",\"type\":\"Plot\"},\"ticker\":{\"id\":\"23aa29a5-587a-46ae-8869-2f3abc9956d0\",\"type\":\"BasicTicker\"}},\"id\":\"d140abc7-57bd-4865-b079-2428888a92ee\",\"type\":\"LinearAxis\"},{\"attributes\":{\"overlay\":{\"id\":\"b2c860ac-346f-4271-b766-8000279bc70d\",\"type\":\"PolyAnnotation\"},\"plot\":{\"id\":\"b25601e6-e601-4c7a-9f69-db45e42540d6\",\"subtype\":\"Figure\",\"type\":\"Plot\"}},\"id\":\"15be8c1c-19b9-446c-99ae-2715027cdf56\",\"type\":\"PolySelectTool\"},{\"attributes\":{\"formatter\":{\"id\":\"8c9b7546-bfdf-45eb-abc9-88687c6a50b9\",\"type\":\"BasicTickFormatter\"},\"plot\":{\"id\":\"e0c8a14e-163f-4c18-9167-1711d683fce2\",\"subtype\":\"Figure\",\"type\":\"Plot\"},\"ticker\":{\"id\":\"e7f54022-7653-485b-acd0-1bbcaa2ca4e1\",\"type\":\"BasicTicker\"}},\"id\":\"ca3ea062-a7b3-46ed-8b50-839eff6b4c46\",\"type\":\"LinearAxis\"},{\"attributes\":{\"below\":[{\"id\":\"1c4a3089-39d7-4e9e-8873-930b75d866ba\",\"type\":\"LinearAxis\"}],\"left\":[{\"id\":\"e7967293-bba3-4b49-ab1d-5186fa227254\",\"type\":\"LinearAxis\"}],\"plot_height\":400,\"renderers\":[{\"id\":\"1c4a3089-39d7-4e9e-8873-930b75d866ba\",\"type\":\"LinearAxis\"},{\"id\":\"aab03434-3d0d-4abf-b074-e14522b994cf\",\"type\":\"Grid\"},{\"id\":\"e7967293-bba3-4b49-ab1d-5186fa227254\",\"type\":\"LinearAxis\"},{\"id\":\"0c80fa7a-a07f-4860-92be-490739acfa62\",\"type\":\"Grid\"},{\"id\":\"165f99ac-d246-464e-94b3-bdc1aee65fef\",\"type\":\"GlyphRenderer\"}],\"title\":\"Scatter Plot of geographical locations\",\"tool_events\":{\"id\":\"4fea5185-3b8e-4991-a848-cbab91162a06\",\"type\":\"ToolEvents\"},\"tools\":[{\"id\":\"113afe91-4adf-4f6a-ab05-c399dfc1b4cb\",\"type\":\"HoverTool\"},{\"id\":\"f4ec22bb-9751-4401-bf1d-ff4a3ae100e3\",\"type\":\"PanTool\"}],\"x_range\":{\"id\":\"f818b8c1-4aa0-4acc-a681-ef00fe37387b\",\"type\":\"DataRange1d\"},\"y_range\":{\"id\":\"6b6cc765-584f-450b-8bc8-73c96ed44c4a\",\"type\":\"DataRange1d\"}},\"id\":\"5376225c-80bd-4f2d-8357-a7a4c1f5c1d1\",\"subtype\":\"Figure\",\"type\":\"Plot\"},{\"attributes\":{\"callback\":null},\"id\":\"8afd7722-9e24-4f7e-a90e-cdd207947445\",\"type\":\"DataRange1d\"},{\"attributes\":{\"callback\":null},\"id\":\"bb0a3d1c-396c-47e5-ac46-e2c75208f244\",\"type\":\"DataRange1d\"},{\"attributes\":{\"overlay\":{\"id\":\"f95591a6-57c0-4089-9c16-9a05e4637563\",\"type\":\"PolyAnnotation\"},\"plot\":{\"id\":\"b25601e6-e601-4c7a-9f69-db45e42540d6\",\"subtype\":\"Figure\",\"type\":\"Plot\"}},\"id\":\"24aa976c-91b1-4a5d-8d58-c80ff989f136\",\"type\":\"LassoSelectTool\"},{\"attributes\":{},\"id\":\"bfd0af77-32eb-4545-bd2e-17320cf86406\",\"type\":\"BasicTicker\"},{\"attributes\":{\"data_source\":{\"id\":\"104743a1-2f2a-496f-8af0-2d7483aa6e3c\",\"type\":\"ColumnDataSource\"},\"glyph\":{\"id\":\"46f3f1ea-edde-4fd0-ad3c-21c1606008f6\",\"type\":\"Circle\"},\"hover_glyph\":null,\"nonselection_glyph\":{\"id\":\"96151933-4a04-46d4-9772-6ec90abcb1b0\",\"type\":\"Circle\"},\"selection_glyph\":null},\"id\":\"165f99ac-d246-464e-94b3-bdc1aee65fef\",\"type\":\"GlyphRenderer\"},{\"attributes\":{\"plot\":{\"id\":\"b25601e6-e601-4c7a-9f69-db45e42540d6\",\"subtype\":\"Figure\",\"type\":\"Plot\"}},\"id\":\"58d4b848-8254-469a-98e5-547cb855865b\",\"type\":\"CrosshairTool\"},{\"attributes\":{\"callback\":null},\"id\":\"2cf77f0a-c71c-42c9-9913-305e484557f8\",\"type\":\"DataRange1d\"},{\"attributes\":{},\"id\":\"8b45db54-9c2d-48db-a399-9f155d786ce3\",\"type\":\"BasicTickFormatter\"},{\"attributes\":{\"formatter\":{\"id\":\"328c82a7-164f-4b24-a767-34ef86bb621c\",\"type\":\"BasicTickFormatter\"},\"plot\":{\"id\":\"e0c8a14e-163f-4c18-9167-1711d683fce2\",\"subtype\":\"Figure\",\"type\":\"Plot\"},\"ticker\":{\"id\":\"5e52d38e-9b2c-470c-ac93-f8a32ac0f9e4\",\"type\":\"BasicTicker\"}},\"id\":\"f8ea89e7-326c-4925-8898-6ef621cebd92\",\"type\":\"LinearAxis\"},{\"attributes\":{\"formatter\":{\"id\":\"fab7ff9d-fcc1-4a7b-a71a-6aa573edef44\",\"type\":\"BasicTickFormatter\"},\"plot\":{\"id\":\"5376225c-80bd-4f2d-8357-a7a4c1f5c1d1\",\"subtype\":\"Figure\",\"type\":\"Plot\"},\"ticker\":{\"id\":\"89b4fcc6-1b16-4aa7-9296-5622df8ac61d\",\"type\":\"BasicTicker\"}},\"id\":\"1c4a3089-39d7-4e9e-8873-930b75d866ba\",\"type\":\"LinearAxis\"},{\"attributes\":{\"plot\":{\"id\":\"e0c8a14e-163f-4c18-9167-1711d683fce2\",\"subtype\":\"Figure\",\"type\":\"Plot\"}},\"id\":\"94d767e8-2223-4b7a-97f7-f902386b58cb\",\"type\":\"PanTool\"},{\"attributes\":{\"formatter\":{\"id\":\"425e3bd0-3d26-48e6-aa2c-53d231d2923e\",\"type\":\"BasicTickFormatter\"},\"plot\":{\"id\":\"b25601e6-e601-4c7a-9f69-db45e42540d6\",\"subtype\":\"Figure\",\"type\":\"Plot\"},\"ticker\":{\"id\":\"ae8c9f90-9f73-4059-afb8-abff757fef18\",\"type\":\"BasicTicker\"}},\"id\":\"73e6c342-ed02-484a-813f-fc8929767b77\",\"type\":\"LinearAxis\"},{\"attributes\":{\"formatter\":{\"id\":\"b00a99ba-c2db-4bc0-9e5a-253dc0d3bc41\",\"type\":\"BasicTickFormatter\"},\"plot\":{\"id\":\"bd4aefaa-bf4d-446e-963c-8e6f3a7645ff\",\"subtype\":\"Figure\",\"type\":\"Plot\"},\"ticker\":{\"id\":\"bfd0af77-32eb-4545-bd2e-17320cf86406\",\"type\":\"BasicTicker\"}},\"id\":\"cfefb446-b54f-48e9-8af4-35b13d56a2a5\",\"type\":\"LinearAxis\"},{\"attributes\":{\"plot\":{\"id\":\"5376225c-80bd-4f2d-8357-a7a4c1f5c1d1\",\"subtype\":\"Figure\",\"type\":\"Plot\"}},\"id\":\"f4ec22bb-9751-4401-bf1d-ff4a3ae100e3\",\"type\":\"PanTool\"},{\"attributes\":{\"overlay\":{\"id\":\"f2a3cec0-d618-463f-a039-d19d2187cc1e\",\"type\":\"BoxAnnotation\"},\"plot\":{\"id\":\"b25601e6-e601-4c7a-9f69-db45e42540d6\",\"subtype\":\"Figure\",\"type\":\"Plot\"}},\"id\":\"f58ce883-7560-4c41-bbcb-27f9cb0580d9\",\"type\":\"BoxZoomTool\"},{\"attributes\":{\"plot\":{\"id\":\"b25601e6-e601-4c7a-9f69-db45e42540d6\",\"subtype\":\"Figure\",\"type\":\"Plot\"}},\"id\":\"d4cb4bb4-dfeb-4f0c-b555-de7d905bcb05\",\"type\":\"ResetTool\"},{\"attributes\":{},\"id\":\"fab7ff9d-fcc1-4a7b-a71a-6aa573edef44\",\"type\":\"BasicTickFormatter\"},{\"attributes\":{\"callback\":null},\"id\":\"facf455f-a2b7-4127-99b7-1e4267f9d911\",\"type\":\"DataRange1d\"},{\"attributes\":{\"callback\":null,\"column_names\":[\"lng\",\"lat\",\"company\"],\"data\":{\"company\":[\"Adobe Systems Incorporated\",\"Autodesk, Inc.\",\"Advanced Micro Devices, Inc.\",\"Agilent Technologies Inc\",\"Apple Inc.\",\"Brocade Communications Systems, Inc.\",\"Cisco Systems, Inc.\",\"Chevron Corporation\",\"Cooley LLP\",\"Electronic Arts Inc.\",\"Facebook Inc\",\"Fitbit Inc\",\"Alphabet Inc\",\"M. ARTHUR GENSLER JR. & ASSOCIATES, INC.\",\"Gilead Sciences, Inc.\",\"Greenplum, Inc.\",\"Guidewire Software Inc\",\"Hortonworks Inc\",\"Intuit Inc.\",\"Informatica LLC\",\"Intel Corporation\",\"LinkedIn Corp\",\"McKesson Corporation\",\"Square Inc\",\"HP Inc\",\"Trulia Inc\",\"NetApp Inc.\",\"NetSuite Inc\",\"Netflix, Inc.\",\"Omnicell, Inc.\",\"Oracle Corporation\",\"ORRICK, HERRINGTON & SUTCLIFFE, LLP\",\"Pure Storage Inc\",\"Robert Half International Inc.\",\"Charles Schwab Corp\",\"SanDisk Corporation\",\"Sanmina Corp\",\"SolarCity Corp\",\"Splunk Inc\",\"Symantec Corporation\",\"Synaptics, Incorporated\",\"Twitter Inc\",\"VMware, Inc.\",\"Visa Inc\",\"Workday Inc\",\"Wells Fargo & Co\",\"Yelp Inc\",\"eBay Inc\",\"salesforce.com, inc.\"],\"lat\":[37.3307355,38.0055244,37.3895297,37.3248859,37.3316936,37.4184823,37.4083511,37.7582505,37.4146246,37.5233409,37.483409,37.7885335,37.4223652,37.7894181,37.5669611,37.55267449999999,37.55939559999999,37.41330689999999,37.4306157,37.5113248,37.3875909,37.4233111,37.7887748,37.7752315,37.4120372,37.7888898,37.4112611,37.5365832,37.2596172,37.3951677,37.5306726,37.7885335,37.3880279,37.4219278,37.79058759999999,37.4188738,37.3900272,37.533444,37.7830522,37.3970363,37.3916556,37.7767902,37.4020858,37.6239079,37.6943905,37.79337659999999,37.7866839,37.2954483,37.7936027],\"lng\":[-121.8942276,-122.5307809,-122.0183914,-121.998857,-122.0302191,-121.9523256,-121.954079,-121.9580965,-122.1420634,-122.2540571,-122.1494548,-122.3950687,-122.084186,-122.3893191,-122.2816329,-122.2923474,-122.2718132,-121.9783999,-122.0960784,-122.2047802,-121.9637869,-122.0706458,-122.4026656,-122.4175278,-122.1484378,-122.3981036,-122.0119022,-122.3269981,-121.9626432,-122.0514384,-122.2624459,-122.3950687,-122.0830558,-122.2150953,-122.3928349,-121.9221472,-121.929548,-122.3307558,-122.39103,-122.0539377,-121.8909006,-122.4164055,-122.1446169,-122.3815924,-121.9213356,-122.4026201,-122.3998832,-121.9275001,-122.3945157]}},\"id\":\"2fa8de8a-745e-43e8-b906-bf5bc7997df6\",\"type\":\"ColumnDataSource\"},{\"attributes\":{\"callback\":null,\"column_names\":[\"lng\",\"lat\",\"company\"],\"data\":{\"company\":[\"Adobe Systems Incorporated\",\"Autodesk, Inc.\",\"Advanced Micro Devices, Inc.\",\"Agilent Technologies Inc\",\"Apple Inc.\",\"Brocade Communications Systems, Inc.\",\"Cisco Systems, Inc.\",\"Chevron Corporation\",\"Cooley LLP\",\"Electronic Arts Inc.\",\"Facebook Inc\",\"Fitbit Inc\",\"Alphabet Inc\",\"M. ARTHUR GENSLER JR. & ASSOCIATES, INC.\",\"Gilead Sciences, Inc.\",\"Greenplum, Inc.\",\"Guidewire Software Inc\",\"Hortonworks Inc\",\"Intuit Inc.\",\"Informatica LLC\",\"Intel Corporation\",\"LinkedIn Corp\",\"McKesson Corporation\",\"Square Inc\",\"HP Inc\",\"Trulia Inc\",\"NetApp Inc.\",\"NetSuite Inc\",\"Netflix, Inc.\",\"Omnicell, Inc.\",\"Oracle Corporation\",\"ORRICK, HERRINGTON & SUTCLIFFE, LLP\",\"Pure Storage Inc\",\"Robert Half International Inc.\",\"Charles Schwab Corp\",\"SanDisk Corporation\",\"Sanmina Corp\",\"SolarCity Corp\",\"Splunk Inc\",\"Symantec Corporation\",\"Synaptics, Incorporated\",\"Twitter Inc\",\"VMware, Inc.\",\"Visa Inc\",\"Workday Inc\",\"Wells Fargo & Co\",\"Yelp Inc\",\"eBay Inc\",\"salesforce.com, inc.\"],\"lat\":[37.3307355,38.0055244,37.3895297,37.3248859,37.3316936,37.4184823,37.4083511,37.7582505,37.4146246,37.5233409,37.483409,37.7885335,37.4223652,37.7894181,37.5669611,37.55267449999999,37.55939559999999,37.41330689999999,37.4306157,37.5113248,37.3875909,37.4233111,37.7887748,37.7752315,37.4120372,37.7888898,37.4112611,37.5365832,37.2596172,37.3951677,37.5306726,37.7885335,37.3880279,37.4219278,37.79058759999999,37.4188738,37.3900272,37.533444,37.7830522,37.3970363,37.3916556,37.7767902,37.4020858,37.6239079,37.6943905,37.79337659999999,37.7866839,37.2954483,37.7936027],\"lng\":[-121.8942276,-122.5307809,-122.0183914,-121.998857,-122.0302191,-121.9523256,-121.954079,-121.9580965,-122.1420634,-122.2540571,-122.1494548,-122.3950687,-122.084186,-122.3893191,-122.2816329,-122.2923474,-122.2718132,-121.9783999,-122.0960784,-122.2047802,-121.9637869,-122.0706458,-122.4026656,-122.4175278,-122.1484378,-122.3981036,-122.0119022,-122.3269981,-121.9626432,-122.0514384,-122.2624459,-122.3950687,-122.0830558,-122.2150953,-122.3928349,-121.9221472,-121.929548,-122.3307558,-122.39103,-122.0539377,-121.8909006,-122.4164055,-122.1446169,-122.3815924,-121.9213356,-122.4026201,-122.3998832,-121.9275001,-122.3945157]}},\"id\":\"104743a1-2f2a-496f-8af0-2d7483aa6e3c\",\"type\":\"ColumnDataSource\"},{\"attributes\":{\"plot\":{\"id\":\"5376225c-80bd-4f2d-8357-a7a4c1f5c1d1\",\"subtype\":\"Figure\",\"type\":\"Plot\"},\"ticker\":{\"id\":\"89b4fcc6-1b16-4aa7-9296-5622df8ac61d\",\"type\":\"BasicTicker\"}},\"id\":\"aab03434-3d0d-4abf-b074-e14522b994cf\",\"type\":\"Grid\"},{\"attributes\":{\"bottom_units\":\"screen\",\"fill_alpha\":{\"value\":0.5},\"fill_color\":{\"value\":\"lightgrey\"},\"left_units\":\"screen\",\"level\":\"overlay\",\"line_alpha\":{\"value\":1.0},\"line_color\":{\"value\":\"black\"},\"line_dash\":[4,4],\"line_width\":{\"value\":2},\"plot\":null,\"render_mode\":\"css\",\"right_units\":\"screen\",\"top_units\":\"screen\"},\"id\":\"f879d668-3339-45e1-8740-d725b1c39683\",\"type\":\"BoxAnnotation\"},{\"attributes\":{\"fill_color\":{\"value\":\"#1f77b4\"},\"line_color\":{\"value\":\"#1f77b4\"},\"size\":{\"units\":\"screen\",\"value\":10},\"x\":{\"field\":\"lat\"},\"y\":{\"field\":\"lng\"}},\"id\":\"46f3f1ea-edde-4fd0-ad3c-21c1606008f6\",\"type\":\"Circle\"},{\"attributes\":{\"callback\":null,\"plot\":{\"id\":\"e0c8a14e-163f-4c18-9167-1711d683fce2\",\"subtype\":\"Figure\",\"type\":\"Plot\"},\"tooltips\":[[\"Company \",\"@company\"]]},\"id\":\"84bcd81f-759d-45be-b728-3781b54950d6\",\"type\":\"HoverTool\"},{\"attributes\":{\"callback\":null},\"id\":\"f97f509a-06d1-4d19-882c-a398aa24ebdb\",\"type\":\"DataRange1d\"},{\"attributes\":{\"fill_color\":{\"value\":\"#1f77b4\"},\"line_color\":{\"value\":\"#1f77b4\"},\"size\":{\"units\":\"screen\",\"value\":10},\"x\":{\"field\":\"lat\"},\"y\":{\"field\":\"lng\"}},\"id\":\"5ca488b0-26a1-4a8c-9bcc-b20223c4ee2b\",\"type\":\"Circle\"},{\"attributes\":{},\"id\":\"9e7aca82-a7cd-485e-b4aa-71decd7eff4d\",\"type\":\"BasicTickFormatter\"},{\"attributes\":{\"bottom_units\":\"screen\",\"fill_alpha\":{\"value\":0.5},\"fill_color\":{\"value\":\"lightgrey\"},\"left_units\":\"screen\",\"level\":\"overlay\",\"line_alpha\":{\"value\":1.0},\"line_color\":{\"value\":\"black\"},\"line_dash\":[4,4],\"line_width\":{\"value\":2},\"plot\":null,\"render_mode\":\"css\",\"right_units\":\"screen\",\"top_units\":\"screen\"},\"id\":\"f2a3cec0-d618-463f-a039-d19d2187cc1e\",\"type\":\"BoxAnnotation\"},{\"attributes\":{},\"id\":\"d46a55e5-21b9-498a-80a0-4b138405e51e\",\"type\":\"ToolEvents\"},{\"attributes\":{},\"id\":\"5e15e74e-4108-4e36-a114-e4cd9e494b90\",\"type\":\"BasicTicker\"},{\"attributes\":{},\"id\":\"755be7d2-2bcb-4cd3-b039-081e267a8071\",\"type\":\"ToolEvents\"},{\"attributes\":{},\"id\":\"a3f3e0c4-ea90-4e16-b1f9-2ee75392085a\",\"type\":\"BasicTickFormatter\"},{\"attributes\":{},\"id\":\"40f79874-26b5-40dc-bc3e-44b531cb0149\",\"type\":\"BasicTickFormatter\"},{\"attributes\":{\"fill_color\":{\"value\":\"#1f77b4\"},\"line_color\":{\"value\":\"#1f77b4\"},\"size\":{\"units\":\"screen\",\"value\":10},\"x\":{\"field\":\"lat\"},\"y\":{\"field\":\"lng\"}},\"id\":\"ab99f780-da0e-4914-801c-7b7bb801c313\",\"type\":\"Circle\"},{\"attributes\":{},\"id\":\"8c9b7546-bfdf-45eb-abc9-88687c6a50b9\",\"type\":\"BasicTickFormatter\"},{\"attributes\":{\"fill_alpha\":{\"value\":0.1},\"fill_color\":{\"value\":\"#1f77b4\"},\"line_alpha\":{\"value\":0.1},\"line_color\":{\"value\":\"#1f77b4\"},\"size\":{\"units\":\"screen\",\"value\":10},\"x\":{\"field\":\"lat\"},\"y\":{\"field\":\"lng\"}},\"id\":\"49d11ef3-5bf0-4bcc-a6b2-db0f53437d2e\",\"type\":\"Circle\"},{\"attributes\":{\"callback\":null,\"plot\":{\"id\":\"5376225c-80bd-4f2d-8357-a7a4c1f5c1d1\",\"subtype\":\"Figure\",\"type\":\"Plot\"},\"tooltips\":[[\"Company \",\"@company\"]]},\"id\":\"113afe91-4adf-4f6a-ab05-c399dfc1b4cb\",\"type\":\"HoverTool\"},{\"attributes\":{},\"id\":\"5e52d38e-9b2c-470c-ac93-f8a32ac0f9e4\",\"type\":\"BasicTicker\"},{\"attributes\":{\"data_source\":{\"id\":\"0b16c886-1342-42c6-9eeb-066a026fa179\",\"type\":\"ColumnDataSource\"},\"glyph\":{\"id\":\"5ca488b0-26a1-4a8c-9bcc-b20223c4ee2b\",\"type\":\"Circle\"},\"hover_glyph\":null,\"nonselection_glyph\":{\"id\":\"49d11ef3-5bf0-4bcc-a6b2-db0f53437d2e\",\"type\":\"Circle\"},\"selection_glyph\":null},\"id\":\"7e8d1631-a354-4454-aaf7-dcd67ad74779\",\"type\":\"GlyphRenderer\"},{\"attributes\":{\"plot\":{\"id\":\"b25601e6-e601-4c7a-9f69-db45e42540d6\",\"subtype\":\"Figure\",\"type\":\"Plot\"},\"ticker\":{\"id\":\"ae8c9f90-9f73-4059-afb8-abff757fef18\",\"type\":\"BasicTicker\"}},\"id\":\"8895dde2-f678-4ac9-b895-6f09d357de53\",\"type\":\"Grid\"},{\"attributes\":{\"callback\":null},\"id\":\"a980b411-ce7b-4372-9152-f6d5a7e8ad1c\",\"type\":\"DataRange1d\"},{\"attributes\":{\"callback\":null,\"plot\":{\"id\":\"bd4aefaa-bf4d-446e-963c-8e6f3a7645ff\",\"subtype\":\"Figure\",\"type\":\"Plot\"},\"tooltips\":[[\"Company \",\"@company\"]]},\"id\":\"aef7ea44-7ce1-4216-8d81-747338e1b0ad\",\"type\":\"HoverTool\"},{\"attributes\":{\"callback\":null,\"column_names\":[\"lng\",\"lat\",\"company\"],\"data\":{\"company\":[\"Adobe Systems Incorporated\",\"Autodesk, Inc.\",\"Advanced Micro Devices, Inc.\",\"Agilent Technologies Inc\",\"Apple Inc.\",\"Brocade Communications Systems, Inc.\",\"Cisco Systems, Inc.\",\"Chevron Corporation\",\"Cooley LLP\",\"Electronic Arts Inc.\",\"Facebook Inc\",\"Fitbit Inc\",\"Alphabet Inc\",\"M. ARTHUR GENSLER JR. & ASSOCIATES, INC.\",\"Gilead Sciences, Inc.\",\"Greenplum, Inc.\",\"Guidewire Software Inc\",\"Hortonworks Inc\",\"Intuit Inc.\",\"Informatica LLC\",\"Intel Corporation\",\"LinkedIn Corp\",\"McKesson Corporation\",\"Square Inc\",\"HP Inc\",\"Trulia Inc\",\"NetApp Inc.\",\"NetSuite Inc\",\"Netflix, Inc.\",\"Omnicell, Inc.\",\"Oracle Corporation\",\"ORRICK, HERRINGTON & SUTCLIFFE, LLP\",\"Pure Storage Inc\",\"Robert Half International Inc.\",\"Charles Schwab Corp\",\"SanDisk Corporation\",\"Sanmina Corp\",\"SolarCity Corp\",\"Splunk Inc\",\"Symantec Corporation\",\"Synaptics, Incorporated\",\"Twitter Inc\",\"VMware, Inc.\",\"Visa Inc\",\"Workday Inc\",\"Wells Fargo & Co\",\"Yelp Inc\",\"eBay Inc\",\"salesforce.com, inc.\"],\"lat\":[37.3307355,38.0055244,37.3895297,37.3248859,37.3316936,37.4184823,37.4083511,37.7582505,37.4146246,37.5233409,37.483409,37.7885335,37.4223652,37.7894181,37.5669611,37.55267449999999,37.55939559999999,37.41330689999999,37.4306157,37.5113248,37.3875909,37.4233111,37.7887748,37.7752315,37.4120372,37.7888898,37.4112611,37.5365832,37.2596172,37.3951677,37.5306726,37.7885335,37.3880279,37.4219278,37.79058759999999,37.4188738,37.3900272,37.533444,37.7830522,37.3970363,37.3916556,37.7767902,37.4020858,37.6239079,37.6943905,37.79337659999999,37.7866839,37.2954483,37.7936027],\"lng\":[-121.8942276,-122.5307809,-122.0183914,-121.998857,-122.0302191,-121.9523256,-121.954079,-121.9580965,-122.1420634,-122.2540571,-122.1494548,-122.3950687,-122.084186,-122.3893191,-122.2816329,-122.2923474,-122.2718132,-121.9783999,-122.0960784,-122.2047802,-121.9637869,-122.0706458,-122.4026656,-122.4175278,-122.1484378,-122.3981036,-122.0119022,-122.3269981,-121.9626432,-122.0514384,-122.2624459,-122.3950687,-122.0830558,-122.2150953,-122.3928349,-121.9221472,-121.929548,-122.3307558,-122.39103,-122.0539377,-121.8909006,-122.4164055,-122.1446169,-122.3815924,-121.9213356,-122.4026201,-122.3998832,-121.9275001,-122.3945157]}},\"id\":\"97bc39f5-ecf5-4244-b31e-daa2af821aa2\",\"type\":\"ColumnDataSource\"},{\"attributes\":{\"callback\":null},\"id\":\"f818b8c1-4aa0-4acc-a681-ef00fe37387b\",\"type\":\"DataRange1d\"},{\"attributes\":{\"formatter\":{\"id\":\"8b45db54-9c2d-48db-a399-9f155d786ce3\",\"type\":\"BasicTickFormatter\"},\"plot\":{\"id\":\"5376225c-80bd-4f2d-8357-a7a4c1f5c1d1\",\"subtype\":\"Figure\",\"type\":\"Plot\"},\"ticker\":{\"id\":\"b8746e08-008e-44bb-be53-d014c4d1190c\",\"type\":\"BasicTicker\"}},\"id\":\"e7967293-bba3-4b49-ab1d-5186fa227254\",\"type\":\"LinearAxis\"},{\"attributes\":{\"callback\":null,\"overlay\":{\"id\":\"f879d668-3339-45e1-8740-d725b1c39683\",\"type\":\"BoxAnnotation\"},\"plot\":{\"id\":\"b25601e6-e601-4c7a-9f69-db45e42540d6\",\"subtype\":\"Figure\",\"type\":\"Plot\"},\"renderers\":[{\"id\":\"22cf26e4-38b5-4c09-b7d6-d176398065c6\",\"type\":\"GlyphRenderer\"}]},\"id\":\"97d65a2e-508e-416c-9d00-12873f5ca43c\",\"type\":\"BoxSelectTool\"},{\"attributes\":{\"data_source\":{\"id\":\"97bc39f5-ecf5-4244-b31e-daa2af821aa2\",\"type\":\"ColumnDataSource\"},\"glyph\":{\"id\":\"a1ec9e84-c1df-40ee-bc8f-b58ecdae8b2e\",\"type\":\"Circle\"},\"hover_glyph\":null,\"nonselection_glyph\":{\"id\":\"44f638e0-7051-4a68-b92e-7ef3f0306281\",\"type\":\"Circle\"},\"selection_glyph\":null},\"id\":\"22cf26e4-38b5-4c09-b7d6-d176398065c6\",\"type\":\"GlyphRenderer\"},{\"attributes\":{},\"id\":\"425e3bd0-3d26-48e6-aa2c-53d231d2923e\",\"type\":\"BasicTickFormatter\"},{\"attributes\":{},\"id\":\"b8746e08-008e-44bb-be53-d014c4d1190c\",\"type\":\"BasicTicker\"},{\"attributes\":{},\"id\":\"1e09e458-495f-47f1-8b66-7421f641f1a8\",\"type\":\"BasicTickFormatter\"},{\"attributes\":{},\"id\":\"4fea5185-3b8e-4991-a848-cbab91162a06\",\"type\":\"ToolEvents\"},{\"attributes\":{},\"id\":\"ec3568c2-4060-4e2b-9924-b19891b05a7e\",\"type\":\"BasicTicker\"},{\"attributes\":{\"fill_color\":{\"value\":\"#1f77b4\"},\"line_color\":{\"value\":\"#1f77b4\"},\"size\":{\"units\":\"screen\",\"value\":10},\"x\":{\"field\":\"lat\"},\"y\":{\"field\":\"lng\"}},\"id\":\"a1ec9e84-c1df-40ee-bc8f-b58ecdae8b2e\",\"type\":\"Circle\"},{\"attributes\":{\"dimension\":1,\"plot\":{\"id\":\"b25601e6-e601-4c7a-9f69-db45e42540d6\",\"subtype\":\"Figure\",\"type\":\"Plot\"},\"ticker\":{\"id\":\"ec3568c2-4060-4e2b-9924-b19891b05a7e\",\"type\":\"BasicTicker\"}},\"id\":\"70e23a33-85bb-4ec3-9713-43864cb69357\",\"type\":\"Grid\"},{\"attributes\":{\"data_source\":{\"id\":\"2fa8de8a-745e-43e8-b906-bf5bc7997df6\",\"type\":\"ColumnDataSource\"},\"glyph\":{\"id\":\"ab99f780-da0e-4914-801c-7b7bb801c313\",\"type\":\"Circle\"},\"hover_glyph\":null,\"nonselection_glyph\":{\"id\":\"3d143778-c63d-4d91-9c98-dc31457a9b6a\",\"type\":\"Circle\"},\"selection_glyph\":null},\"id\":\"a630e44d-a448-4680-afb6-2c594222abd9\",\"type\":\"GlyphRenderer\"},{\"attributes\":{},\"id\":\"b00a99ba-c2db-4bc0-9e5a-253dc0d3bc41\",\"type\":\"BasicTickFormatter\"},{\"attributes\":{},\"id\":\"35ecb322-38b6-42c0-b065-e99da79d1f85\",\"type\":\"ToolEvents\"},{\"attributes\":{\"fill_alpha\":{\"value\":0.1},\"fill_color\":{\"value\":\"#1f77b4\"},\"line_alpha\":{\"value\":0.1},\"line_color\":{\"value\":\"#1f77b4\"},\"size\":{\"units\":\"screen\",\"value\":10},\"x\":{\"field\":\"lat\"},\"y\":{\"field\":\"lng\"}},\"id\":\"3d143778-c63d-4d91-9c98-dc31457a9b6a\",\"type\":\"Circle\"},{\"attributes\":{},\"id\":\"f62e6a6f-a3ea-49f5-b7d6-49efdc5028af\",\"type\":\"ToolEvents\"},{\"attributes\":{},\"id\":\"e7f54022-7653-485b-acd0-1bbcaa2ca4e1\",\"type\":\"BasicTicker\"},{\"attributes\":{\"dimension\":1,\"plot\":{\"id\":\"bd4aefaa-bf4d-446e-963c-8e6f3a7645ff\",\"subtype\":\"Figure\",\"type\":\"Plot\"},\"ticker\":{\"id\":\"bfd0af77-32eb-4545-bd2e-17320cf86406\",\"type\":\"BasicTicker\"}},\"id\":\"9a1da9b9-0287-4624-9622-7a9fc4998169\",\"type\":\"Grid\"},{\"attributes\":{\"plot\":{\"id\":\"b25601e6-e601-4c7a-9f69-db45e42540d6\",\"subtype\":\"Figure\",\"type\":\"Plot\"}},\"id\":\"e10c8356-92f2-4b3e-90ea-5979e3d36e7b\",\"type\":\"PanTool\"},{\"attributes\":{\"dimension\":1,\"plot\":{\"id\":\"77be27a9-8c54-49de-b20a-e74e8256b220\",\"subtype\":\"Figure\",\"type\":\"Plot\"},\"ticker\":{\"id\":\"3506fc09-dbe5-4e83-aba0-23a6206b0312\",\"type\":\"BasicTicker\"}},\"id\":\"e92c7f73-039b-4419-a463-ec1ca2b88edf\",\"type\":\"Grid\"},{\"attributes\":{\"fill_alpha\":{\"value\":0.1},\"fill_color\":{\"value\":\"#1f77b4\"},\"line_alpha\":{\"value\":0.1},\"line_color\":{\"value\":\"#1f77b4\"},\"size\":{\"units\":\"screen\",\"value\":10},\"x\":{\"field\":\"lat\"},\"y\":{\"field\":\"lng\"}},\"id\":\"eab0d624-73bb-4988-ba17-815aac49d3a4\",\"type\":\"Circle\"},{\"attributes\":{\"plot\":{\"id\":\"b25601e6-e601-4c7a-9f69-db45e42540d6\",\"subtype\":\"Figure\",\"type\":\"Plot\"}},\"id\":\"0a5ade51-827b-4d76-9cb7-c824c0d9f839\",\"type\":\"PreviewSaveTool\"},{\"attributes\":{\"below\":[{\"id\":\"4981de43-81c7-41d3-9f20-21d179815a5b\",\"type\":\"LinearAxis\"}],\"left\":[{\"id\":\"7e8b267b-c54a-4c0b-9412-9d88b3924df7\",\"type\":\"LinearAxis\"}],\"plot_height\":400,\"plot_width\":400,\"renderers\":[{\"id\":\"4981de43-81c7-41d3-9f20-21d179815a5b\",\"type\":\"LinearAxis\"},{\"id\":\"39accc1d-4411-4c9e-80d2-1fa052a59475\",\"type\":\"Grid\"},{\"id\":\"7e8b267b-c54a-4c0b-9412-9d88b3924df7\",\"type\":\"LinearAxis\"},{\"id\":\"e92c7f73-039b-4419-a463-ec1ca2b88edf\",\"type\":\"Grid\"},{\"id\":\"7e8d1631-a354-4454-aaf7-dcd67ad74779\",\"type\":\"GlyphRenderer\"}],\"title\":\"Scatter Plot of geographical locations\",\"tool_events\":{\"id\":\"d46a55e5-21b9-498a-80a0-4b138405e51e\",\"type\":\"ToolEvents\"},\"tools\":[{\"id\":\"efcd0d81-de8e-402b-9a40-e294b43a6b98\",\"type\":\"HoverTool\"},{\"id\":\"bf5f3b58-86ce-40a3-bc03-a891e9dc967b\",\"type\":\"PanTool\"}],\"x_range\":{\"id\":\"bb0a3d1c-396c-47e5-ac46-e2c75208f244\",\"type\":\"DataRange1d\"},\"y_range\":{\"id\":\"39f777d0-7335-4355-a889-7bf7cef18190\",\"type\":\"DataRange1d\"}},\"id\":\"77be27a9-8c54-49de-b20a-e74e8256b220\",\"subtype\":\"Figure\",\"type\":\"Plot\"},{\"attributes\":{\"callback\":null,\"plot\":{\"id\":\"b25601e6-e601-4c7a-9f69-db45e42540d6\",\"subtype\":\"Figure\",\"type\":\"Plot\"}},\"id\":\"fc2f3a2a-3463-4325-8bfb-253c8dda4d96\",\"type\":\"TapTool\"},{\"attributes\":{\"plot\":{\"id\":\"b25601e6-e601-4c7a-9f69-db45e42540d6\",\"subtype\":\"Figure\",\"type\":\"Plot\"}},\"id\":\"81ec0bbc-eefa-4c2d-b1d3-ecb5624b5591\",\"type\":\"ResizeTool\"},{\"attributes\":{},\"id\":\"3506fc09-dbe5-4e83-aba0-23a6206b0312\",\"type\":\"BasicTicker\"},{\"attributes\":{\"callback\":null},\"id\":\"6b6cc765-584f-450b-8bc8-73c96ed44c4a\",\"type\":\"DataRange1d\"},{\"attributes\":{\"fill_alpha\":{\"value\":0.5},\"fill_color\":{\"value\":\"lightgrey\"},\"level\":\"overlay\",\"line_alpha\":{\"value\":1.0},\"line_color\":{\"value\":\"black\"},\"line_dash\":[4,4],\"line_width\":{\"value\":2},\"plot\":null,\"xs_units\":\"screen\",\"ys_units\":\"screen\"},\"id\":\"f95591a6-57c0-4089-9c16-9a05e4637563\",\"type\":\"PolyAnnotation\"},{\"attributes\":{\"callback\":null,\"plot\":{\"id\":\"77be27a9-8c54-49de-b20a-e74e8256b220\",\"subtype\":\"Figure\",\"type\":\"Plot\"},\"tooltips\":[[\"Company \",\"@company\"]]},\"id\":\"efcd0d81-de8e-402b-9a40-e294b43a6b98\",\"type\":\"HoverTool\"},{\"attributes\":{\"plot\":{\"id\":\"77be27a9-8c54-49de-b20a-e74e8256b220\",\"subtype\":\"Figure\",\"type\":\"Plot\"},\"ticker\":{\"id\":\"5e15e74e-4108-4e36-a114-e4cd9e494b90\",\"type\":\"BasicTicker\"}},\"id\":\"39accc1d-4411-4c9e-80d2-1fa052a59475\",\"type\":\"Grid\"},{\"attributes\":{\"plot\":{\"id\":\"e0c8a14e-163f-4c18-9167-1711d683fce2\",\"subtype\":\"Figure\",\"type\":\"Plot\"},\"ticker\":{\"id\":\"e7f54022-7653-485b-acd0-1bbcaa2ca4e1\",\"type\":\"BasicTicker\"}},\"id\":\"98562b6f-b19b-4895-be28-dc6cdab74550\",\"type\":\"Grid\"},{\"attributes\":{},\"id\":\"23aa29a5-587a-46ae-8869-2f3abc9956d0\",\"type\":\"BasicTicker\"},{\"attributes\":{},\"id\":\"ae8c9f90-9f73-4059-afb8-abff757fef18\",\"type\":\"BasicTicker\"},{\"attributes\":{\"formatter\":{\"id\":\"a3f3e0c4-ea90-4e16-b1f9-2ee75392085a\",\"type\":\"BasicTickFormatter\"},\"plot\":{\"id\":\"77be27a9-8c54-49de-b20a-e74e8256b220\",\"subtype\":\"Figure\",\"type\":\"Plot\"},\"ticker\":{\"id\":\"3506fc09-dbe5-4e83-aba0-23a6206b0312\",\"type\":\"BasicTicker\"}},\"id\":\"7e8b267b-c54a-4c0b-9412-9d88b3924df7\",\"type\":\"LinearAxis\"},{\"attributes\":{\"below\":[{\"id\":\"ca3ea062-a7b3-46ed-8b50-839eff6b4c46\",\"type\":\"LinearAxis\"}],\"left\":[{\"id\":\"f8ea89e7-326c-4925-8898-6ef621cebd92\",\"type\":\"LinearAxis\"}],\"plot_height\":400,\"plot_width\":400,\"renderers\":[{\"id\":\"ca3ea062-a7b3-46ed-8b50-839eff6b4c46\",\"type\":\"LinearAxis\"},{\"id\":\"98562b6f-b19b-4895-be28-dc6cdab74550\",\"type\":\"Grid\"},{\"id\":\"f8ea89e7-326c-4925-8898-6ef621cebd92\",\"type\":\"LinearAxis\"},{\"id\":\"a2bae08a-e7bd-4e17-9655-a37a72b75bab\",\"type\":\"Grid\"},{\"id\":\"362bc888-a954-4eee-9288-b8418196c7aa\",\"type\":\"GlyphRenderer\"}],\"title\":\"Scatter Plot of geographical locations\",\"tool_events\":{\"id\":\"755be7d2-2bcb-4cd3-b039-081e267a8071\",\"type\":\"ToolEvents\"},\"tools\":[{\"id\":\"84bcd81f-759d-45be-b728-3781b54950d6\",\"type\":\"HoverTool\"},{\"id\":\"94d767e8-2223-4b7a-97f7-f902386b58cb\",\"type\":\"PanTool\"}],\"x_range\":{\"id\":\"8afd7722-9e24-4f7e-a90e-cdd207947445\",\"type\":\"DataRange1d\"},\"y_range\":{\"id\":\"facf455f-a2b7-4127-99b7-1e4267f9d911\",\"type\":\"DataRange1d\"}},\"id\":\"e0c8a14e-163f-4c18-9167-1711d683fce2\",\"subtype\":\"Figure\",\"type\":\"Plot\"},{\"attributes\":{\"fill_alpha\":{\"value\":0.5},\"fill_color\":{\"value\":\"lightgrey\"},\"level\":\"overlay\",\"line_alpha\":{\"value\":1.0},\"line_color\":{\"value\":\"black\"},\"line_dash\":[4,4],\"line_width\":{\"value\":2},\"plot\":null,\"xs_units\":\"screen\",\"ys_units\":\"screen\"},\"id\":\"b2c860ac-346f-4271-b766-8000279bc70d\",\"type\":\"PolyAnnotation\"},{\"attributes\":{\"fill_color\":{\"value\":\"#1f77b4\"},\"line_color\":{\"value\":\"#1f77b4\"},\"size\":{\"units\":\"screen\",\"value\":10},\"x\":{\"field\":\"lat\"},\"y\":{\"field\":\"lng\"}},\"id\":\"5a59695c-6a2a-4f57-af87-52f41f98f59c\",\"type\":\"Circle\"},{\"attributes\":{\"formatter\":{\"id\":\"1e09e458-495f-47f1-8b66-7421f641f1a8\",\"type\":\"BasicTickFormatter\"},\"plot\":{\"id\":\"77be27a9-8c54-49de-b20a-e74e8256b220\",\"subtype\":\"Figure\",\"type\":\"Plot\"},\"ticker\":{\"id\":\"5e15e74e-4108-4e36-a114-e4cd9e494b90\",\"type\":\"BasicTicker\"}},\"id\":\"4981de43-81c7-41d3-9f20-21d179815a5b\",\"type\":\"LinearAxis\"},{\"attributes\":{\"plot\":{\"id\":\"bd4aefaa-bf4d-446e-963c-8e6f3a7645ff\",\"subtype\":\"Figure\",\"type\":\"Plot\"},\"ticker\":{\"id\":\"23aa29a5-587a-46ae-8869-2f3abc9956d0\",\"type\":\"BasicTicker\"}},\"id\":\"dd7793e8-4d87-4ed7-aeb4-a57509c3b18c\",\"type\":\"Grid\"},{\"attributes\":{\"callback\":null,\"column_names\":[\"lng\",\"lat\",\"company\"],\"data\":{\"company\":[\"Adobe Systems Incorporated\",\"Autodesk, Inc.\",\"Advanced Micro Devices, Inc.\",\"Agilent Technologies Inc\",\"Apple Inc.\",\"Brocade Communications Systems, Inc.\",\"Cisco Systems, Inc.\",\"Chevron Corporation\",\"Cooley LLP\",\"Electronic Arts Inc.\",\"Facebook Inc\",\"Fitbit Inc\",\"Alphabet Inc\",\"M. ARTHUR GENSLER JR. & ASSOCIATES, INC.\",\"Gilead Sciences, Inc.\",\"Greenplum, Inc.\",\"Guidewire Software Inc\",\"Hortonworks Inc\",\"Intuit Inc.\",\"Informatica LLC\",\"Intel Corporation\",\"LinkedIn Corp\",\"McKesson Corporation\",\"Square Inc\",\"HP Inc\",\"Trulia Inc\",\"NetApp Inc.\",\"NetSuite Inc\",\"Netflix, Inc.\",\"Omnicell, Inc.\",\"Oracle Corporation\",\"ORRICK, HERRINGTON & SUTCLIFFE, LLP\",\"Pure Storage Inc\",\"Robert Half International Inc.\",\"Charles Schwab Corp\",\"SanDisk Corporation\",\"Sanmina Corp\",\"SolarCity Corp\",\"Splunk Inc\",\"Symantec Corporation\",\"Synaptics, Incorporated\",\"Twitter Inc\",\"VMware, Inc.\",\"Visa Inc\",\"Workday Inc\",\"Wells Fargo & Co\",\"Yelp Inc\",\"eBay Inc\",\"salesforce.com, inc.\"],\"lat\":[37.3307355,38.0055244,37.3895297,37.3248859,37.3316936,37.4184823,37.4083511,37.7582505,37.4146246,37.5233409,37.483409,37.7885335,37.4223652,37.7894181,37.5669611,37.55267449999999,37.55939559999999,37.41330689999999,37.4306157,37.5113248,37.3875909,37.4233111,37.7887748,37.7752315,37.4120372,37.7888898,37.4112611,37.5365832,37.2596172,37.3951677,37.5306726,37.7885335,37.3880279,37.4219278,37.79058759999999,37.4188738,37.3900272,37.533444,37.7830522,37.3970363,37.3916556,37.7767902,37.4020858,37.6239079,37.6943905,37.79337659999999,37.7866839,37.2954483,37.7936027],\"lng\":[-121.8942276,-122.5307809,-122.0183914,-121.998857,-122.0302191,-121.9523256,-121.954079,-121.9580965,-122.1420634,-122.2540571,-122.1494548,-122.3950687,-122.084186,-122.3893191,-122.2816329,-122.2923474,-122.2718132,-121.9783999,-122.0960784,-122.2047802,-121.9637869,-122.0706458,-122.4026656,-122.4175278,-122.1484378,-122.3981036,-122.0119022,-122.3269981,-121.9626432,-122.0514384,-122.2624459,-122.3950687,-122.0830558,-122.2150953,-122.3928349,-121.9221472,-121.929548,-122.3307558,-122.39103,-122.0539377,-121.8909006,-122.4164055,-122.1446169,-122.3815924,-121.9213356,-122.4026201,-122.3998832,-121.9275001,-122.3945157]}},\"id\":\"0b16c886-1342-42c6-9eeb-066a026fa179\",\"type\":\"ColumnDataSource\"},{\"attributes\":{\"fill_alpha\":{\"value\":0.1},\"fill_color\":{\"value\":\"#1f77b4\"},\"line_alpha\":{\"value\":0.1},\"line_color\":{\"value\":\"#1f77b4\"},\"size\":{\"units\":\"screen\",\"value\":10},\"x\":{\"field\":\"lat\"},\"y\":{\"field\":\"lng\"}},\"id\":\"44f638e0-7051-4a68-b92e-7ef3f0306281\",\"type\":\"Circle\"},{\"attributes\":{\"dimension\":1,\"plot\":{\"id\":\"e0c8a14e-163f-4c18-9167-1711d683fce2\",\"subtype\":\"Figure\",\"type\":\"Plot\"},\"ticker\":{\"id\":\"5e52d38e-9b2c-470c-ac93-f8a32ac0f9e4\",\"type\":\"BasicTicker\"}},\"id\":\"a2bae08a-e7bd-4e17-9655-a37a72b75bab\",\"type\":\"Grid\"},{\"attributes\":{\"below\":[{\"id\":\"73e6c342-ed02-484a-813f-fc8929767b77\",\"type\":\"LinearAxis\"}],\"left\":[{\"id\":\"be454243-4cf3-4bc1-816e-900f59f28af2\",\"type\":\"LinearAxis\"}],\"plot_height\":400,\"plot_width\":400,\"renderers\":[{\"id\":\"73e6c342-ed02-484a-813f-fc8929767b77\",\"type\":\"LinearAxis\"},{\"id\":\"8895dde2-f678-4ac9-b895-6f09d357de53\",\"type\":\"Grid\"},{\"id\":\"be454243-4cf3-4bc1-816e-900f59f28af2\",\"type\":\"LinearAxis\"},{\"id\":\"70e23a33-85bb-4ec3-9713-43864cb69357\",\"type\":\"Grid\"},{\"id\":\"f2a3cec0-d618-463f-a039-d19d2187cc1e\",\"type\":\"BoxAnnotation\"},{\"id\":\"f879d668-3339-45e1-8740-d725b1c39683\",\"type\":\"BoxAnnotation\"},{\"id\":\"b2c860ac-346f-4271-b766-8000279bc70d\",\"type\":\"PolyAnnotation\"},{\"id\":\"f95591a6-57c0-4089-9c16-9a05e4637563\",\"type\":\"PolyAnnotation\"},{\"id\":\"22cf26e4-38b5-4c09-b7d6-d176398065c6\",\"type\":\"GlyphRenderer\"}],\"title\":\"Scatter Plot of geographical locations\",\"tool_events\":{\"id\":\"f62e6a6f-a3ea-49f5-b7d6-49efdc5028af\",\"type\":\"ToolEvents\"},\"tools\":[{\"id\":\"81ec0bbc-eefa-4c2d-b1d3-ecb5624b5591\",\"type\":\"ResizeTool\"},{\"id\":\"58d4b848-8254-469a-98e5-547cb855865b\",\"type\":\"CrosshairTool\"},{\"id\":\"e10c8356-92f2-4b3e-90ea-5979e3d36e7b\",\"type\":\"PanTool\"},{\"id\":\"f75baaa7-6acf-4ea2-90df-f6d0dc48fe0f\",\"type\":\"WheelZoomTool\"},{\"id\":\"f58ce883-7560-4c41-bbcb-27f9cb0580d9\",\"type\":\"BoxZoomTool\"},{\"id\":\"d4cb4bb4-dfeb-4f0c-b555-de7d905bcb05\",\"type\":\"ResetTool\"},{\"id\":\"fc2f3a2a-3463-4325-8bfb-253c8dda4d96\",\"type\":\"TapTool\"},{\"id\":\"0a5ade51-827b-4d76-9cb7-c824c0d9f839\",\"type\":\"PreviewSaveTool\"},{\"id\":\"97d65a2e-508e-416c-9d00-12873f5ca43c\",\"type\":\"BoxSelectTool\"},{\"id\":\"15be8c1c-19b9-446c-99ae-2715027cdf56\",\"type\":\"PolySelectTool\"},{\"id\":\"24aa976c-91b1-4a5d-8d58-c80ff989f136\",\"type\":\"LassoSelectTool\"}],\"x_range\":{\"id\":\"2cf77f0a-c71c-42c9-9913-305e484557f8\",\"type\":\"DataRange1d\"},\"y_range\":{\"id\":\"3b2358c9-5c37-4f17-a5e2-f2abea69fae3\",\"type\":\"DataRange1d\"}},\"id\":\"b25601e6-e601-4c7a-9f69-db45e42540d6\",\"subtype\":\"Figure\",\"type\":\"Plot\"},{\"attributes\":{\"callback\":null},\"id\":\"3b2358c9-5c37-4f17-a5e2-f2abea69fae3\",\"type\":\"DataRange1d\"},{\"attributes\":{\"formatter\":{\"id\":\"40f79874-26b5-40dc-bc3e-44b531cb0149\",\"type\":\"BasicTickFormatter\"},\"plot\":{\"id\":\"b25601e6-e601-4c7a-9f69-db45e42540d6\",\"subtype\":\"Figure\",\"type\":\"Plot\"},\"ticker\":{\"id\":\"ec3568c2-4060-4e2b-9924-b19891b05a7e\",\"type\":\"BasicTicker\"}},\"id\":\"be454243-4cf3-4bc1-816e-900f59f28af2\",\"type\":\"LinearAxis\"},{\"attributes\":{\"callback\":null,\"column_names\":[\"lng\",\"lat\",\"company\"],\"data\":{\"company\":[\"Adobe Systems Incorporated\",\"Autodesk, Inc.\",\"Advanced Micro Devices, Inc.\",\"Agilent Technologies Inc\",\"Apple Inc.\",\"Brocade Communications Systems, Inc.\",\"Cisco Systems, Inc.\",\"Chevron Corporation\",\"Cooley LLP\",\"Electronic Arts Inc.\",\"Facebook Inc\",\"Fitbit Inc\",\"Alphabet Inc\",\"M. ARTHUR GENSLER JR. & ASSOCIATES, INC.\",\"Gilead Sciences, Inc.\",\"Greenplum, Inc.\",\"Guidewire Software Inc\",\"Hortonworks Inc\",\"Intuit Inc.\",\"Informatica LLC\",\"Intel Corporation\",\"LinkedIn Corp\",\"McKesson Corporation\",\"Square Inc\",\"HP Inc\",\"Trulia Inc\",\"NetApp Inc.\",\"NetSuite Inc\",\"Netflix, Inc.\",\"Omnicell, Inc.\",\"Oracle Corporation\",\"ORRICK, HERRINGTON & SUTCLIFFE, LLP\",\"Pure Storage Inc\",\"Robert Half International Inc.\",\"Charles Schwab Corp\",\"SanDisk Corporation\",\"Sanmina Corp\",\"SolarCity Corp\",\"Splunk Inc\",\"Symantec Corporation\",\"Synaptics, Incorporated\",\"Twitter Inc\",\"VMware, Inc.\",\"Visa Inc\",\"Workday Inc\",\"Wells Fargo & Co\",\"Yelp Inc\",\"eBay Inc\",\"salesforce.com, inc.\"],\"lat\":[37.3307355,38.0055244,37.3895297,37.3248859,37.3316936,37.4184823,37.4083511,37.7582505,37.4146246,37.5233409,37.483409,37.7885335,37.4223652,37.7894181,37.5669611,37.55267449999999,37.55939559999999,37.41330689999999,37.4306157,37.5113248,37.3875909,37.4233111,37.7887748,37.7752315,37.4120372,37.7888898,37.4112611,37.5365832,37.2596172,37.3951677,37.5306726,37.7885335,37.3880279,37.4219278,37.79058759999999,37.4188738,37.3900272,37.533444,37.7830522,37.3970363,37.3916556,37.7767902,37.4020858,37.6239079,37.6943905,37.79337659999999,37.7866839,37.2954483,37.7936027],\"lng\":[-121.8942276,-122.5307809,-122.0183914,-121.998857,-122.0302191,-121.9523256,-121.954079,-121.9580965,-122.1420634,-122.2540571,-122.1494548,-122.3950687,-122.084186,-122.3893191,-122.2816329,-122.2923474,-122.2718132,-121.9783999,-122.0960784,-122.2047802,-121.9637869,-122.0706458,-122.4026656,-122.4175278,-122.1484378,-122.3981036,-122.0119022,-122.3269981,-121.9626432,-122.0514384,-122.2624459,-122.3950687,-122.0830558,-122.2150953,-122.3928349,-121.9221472,-121.929548,-122.3307558,-122.39103,-122.0539377,-121.8909006,-122.4164055,-122.1446169,-122.3815924,-121.9213356,-122.4026201,-122.3998832,-121.9275001,-122.3945157]}},\"id\":\"a2865cc2-0fb9-4515-bacd-677455537d5c\",\"type\":\"ColumnDataSource\"},{\"attributes\":{},\"id\":\"89b4fcc6-1b16-4aa7-9296-5622df8ac61d\",\"type\":\"BasicTicker\"},{\"attributes\":{\"plot\":{\"id\":\"b25601e6-e601-4c7a-9f69-db45e42540d6\",\"subtype\":\"Figure\",\"type\":\"Plot\"}},\"id\":\"f75baaa7-6acf-4ea2-90df-f6d0dc48fe0f\",\"type\":\"WheelZoomTool\"},{\"attributes\":{},\"id\":\"328c82a7-164f-4b24-a767-34ef86bb621c\",\"type\":\"BasicTickFormatter\"},{\"attributes\":{\"fill_alpha\":{\"value\":0.1},\"fill_color\":{\"value\":\"#1f77b4\"},\"line_alpha\":{\"value\":0.1},\"line_color\":{\"value\":\"#1f77b4\"},\"size\":{\"units\":\"screen\",\"value\":10},\"x\":{\"field\":\"lat\"},\"y\":{\"field\":\"lng\"}},\"id\":\"96151933-4a04-46d4-9772-6ec90abcb1b0\",\"type\":\"Circle\"},{\"attributes\":{\"data_source\":{\"id\":\"a2865cc2-0fb9-4515-bacd-677455537d5c\",\"type\":\"ColumnDataSource\"},\"glyph\":{\"id\":\"5a59695c-6a2a-4f57-af87-52f41f98f59c\",\"type\":\"Circle\"},\"hover_glyph\":null,\"nonselection_glyph\":{\"id\":\"eab0d624-73bb-4988-ba17-815aac49d3a4\",\"type\":\"Circle\"},\"selection_glyph\":null},\"id\":\"362bc888-a954-4eee-9288-b8418196c7aa\",\"type\":\"GlyphRenderer\"}],\"root_ids\":[\"bd4aefaa-bf4d-446e-963c-8e6f3a7645ff\",\"b25601e6-e601-4c7a-9f69-db45e42540d6\",\"77be27a9-8c54-49de-b20a-e74e8256b220\",\"e0c8a14e-163f-4c18-9167-1711d683fce2\",\"5376225c-80bd-4f2d-8357-a7a4c1f5c1d1\"]},\"title\":\"Bokeh Application\",\"version\":\"0.11.1\"}};\n",
       "            var render_items = [{\"docid\":\"1370c9d9-38c7-4996-b3e7-c712aac82871\",\"elementid\":\"d8efab71-fe87-4867-81ae-562ca9e5f389\",\"modelid\":\"5376225c-80bd-4f2d-8357-a7a4c1f5c1d1\",\"notebook_comms_target\":\"32a7bf74-ebff-48d4-a555-f2620007677a\"}];\n",
       "            \n",
       "            Bokeh.embed.embed_items(docs_json, render_items);\n",
       "        });\n",
       "      },\n",
       "      function(Bokeh) {\n",
       "      }\n",
       "    ];\n",
       "  \n",
       "    function run_inline_js() {\n",
       "      for (var i = 0; i < inline_js.length; i++) {\n",
       "        inline_js[i](window.Bokeh);\n",
       "      }\n",
       "    }\n",
       "  \n",
       "    if (window._bokeh_is_loading === 0) {\n",
       "      console.log(\"Bokeh: BokehJS loaded, going straight to plotting\");\n",
       "      run_inline_js();\n",
       "    } else {\n",
       "      load_libs(js_urls, function() {\n",
       "        console.log(\"Bokeh: BokehJS plotting callback run at\", now());\n",
       "        run_inline_js();\n",
       "      });\n",
       "    }\n",
       "  }(this));\n",
       "</script>"
      ]
     },
     "metadata": {},
     "output_type": "display_data"
    },
    {
     "data": {
      "text/html": [
       "<p><code>&lt;Bokeh Notebook handle for <strong>In[31]</strong>&gt;</code></p>"
      ],
      "text/plain": [
       "<bokeh.io._CommsHandle at 0x7fe90136eba8>"
      ]
     },
     "execution_count": 31,
     "metadata": {},
     "output_type": "execute_result"
    }
   ],
   "source": [
    "show(p)"
   ]
  },
  {
   "cell_type": "code",
   "execution_count": 37,
   "metadata": {
    "collapsed": false
   },
   "outputs": [],
   "source": [
    "# satellite, roadmap, terrain or hybrid\n",
    "# Create initial map and center it over SF Bay area\n",
    "map_options = GMapOptions(lat=37.4224497, lng=-122.0840329, map_type=\"roadmap\", zoom=9)\n",
    "\n",
    "source = ColumnDataSource(\n",
    "    data=dict(       \n",
    "        lat = df_sf['lat'].tolist(), \n",
    "        lng = df_sf['lng'].tolist(),          \n",
    "        company = df_sf['companyName'].tolist(),  \n",
    "    )\n",
    ")\n",
    "\n",
    "hover = HoverTool(\n",
    "        tooltips=[                       \n",
    "            (\"Company \", \"@company\"),\n",
    "        ]\n",
    "    )\n",
    "\n",
    "plot = GMapPlot(\n",
    "    x_range=DataRange1d(), y_range=DataRange1d(), map_options=map_options, title=\"Bay Area Companies\"\n",
    "    ,plot_width=800,plot_height=600\n",
    ")\n",
    "\n",
    "circle = Circle(x=\"lng\", y=\"lat\", size=15, fill_color=\"blue\", fill_alpha=0.8, line_color=None)\n",
    "plot.add_glyph(source, circle)\n",
    "\n",
    "plot.add_tools(PanTool(), WheelZoomTool(), BoxSelectTool(),ResetTool(),hover)"
   ]
  },
  {
   "cell_type": "code",
   "execution_count": 38,
   "metadata": {
    "collapsed": false
   },
   "outputs": [
    {
     "data": {
      "text/html": [
       "\n",
       "\n",
       "    <div class=\"plotdiv\" id=\"f43cb703-63a3-41ec-a27a-49bbedef2d9b\"></div>\n",
       "<script type=\"text/javascript\">\n",
       "  \n",
       "  (function(global) {\n",
       "    function now() {\n",
       "      return new Date();\n",
       "    }\n",
       "  \n",
       "    if (typeof (window._bokeh_onload_callbacks) === \"undefined\") {\n",
       "      window._bokeh_onload_callbacks = [];\n",
       "    }\n",
       "  \n",
       "    function run_callbacks() {\n",
       "      window._bokeh_onload_callbacks.forEach(function(callback) { callback() });\n",
       "      delete window._bokeh_onload_callbacks\n",
       "      console.info(\"Bokeh: all callbacks have finished\");\n",
       "    }\n",
       "  \n",
       "    function load_libs(js_urls, callback) {\n",
       "      window._bokeh_onload_callbacks.push(callback);\n",
       "      if (window._bokeh_is_loading > 0) {\n",
       "        console.log(\"Bokeh: BokehJS is being loaded, scheduling callback at\", now());\n",
       "        return null;\n",
       "      }\n",
       "      if (js_urls == null || js_urls.length === 0) {\n",
       "        run_callbacks();\n",
       "        return null;\n",
       "      }\n",
       "      console.log(\"Bokeh: BokehJS not loaded, scheduling load and callback at\", now());\n",
       "      window._bokeh_is_loading = js_urls.length;\n",
       "      for (var i = 0; i < js_urls.length; i++) {\n",
       "        var url = js_urls[i];\n",
       "        var s = document.createElement('script');\n",
       "        s.src = url;\n",
       "        s.async = false;\n",
       "        s.onreadystatechange = s.onload = function() {\n",
       "          window._bokeh_is_loading--;\n",
       "          if (window._bokeh_is_loading === 0) {\n",
       "            console.log(\"Bokeh: all BokehJS libraries loaded\");\n",
       "            run_callbacks()\n",
       "          }\n",
       "        };\n",
       "        s.onerror = function() {\n",
       "          console.warn(\"failed to load library \" + url);\n",
       "        };\n",
       "        console.log(\"Bokeh: injecting script tag for BokehJS library: \", url);\n",
       "        document.getElementsByTagName(\"head\")[0].appendChild(s);\n",
       "      }\n",
       "    };var element = document.getElementById(\"f43cb703-63a3-41ec-a27a-49bbedef2d9b\");\n",
       "    if (element == null) {\n",
       "      console.log(\"Bokeh: ERROR: autoload.js configured with elementid 'f43cb703-63a3-41ec-a27a-49bbedef2d9b' but no matching script tag was found. \")\n",
       "      return false;\n",
       "    }\n",
       "  \n",
       "    var js_urls = [];\n",
       "  \n",
       "    var inline_js = [\n",
       "      function(Bokeh) {\n",
       "        Bokeh.$(function() {\n",
       "            var docs_json = {\"b5c49c71-bfcd-4ec3-b81a-4f9903b2e550\":{\"roots\":{\"references\":[{\"attributes\":{\"bottom_units\":\"screen\",\"fill_alpha\":{\"value\":0.5},\"fill_color\":{\"value\":\"lightgrey\"},\"left_units\":\"screen\",\"level\":\"overlay\",\"line_alpha\":{\"value\":1.0},\"line_color\":{\"value\":\"black\"},\"line_dash\":[4,4],\"line_width\":{\"value\":2},\"plot\":null,\"render_mode\":\"css\",\"right_units\":\"screen\",\"top_units\":\"screen\"},\"id\":\"666d0562-09cd-48b1-a052-149c86fddaff\",\"type\":\"BoxAnnotation\"},{\"attributes\":{\"plot\":{\"id\":\"2616f914-0e4f-4292-b09e-4d23cddcf61a\",\"type\":\"GMapPlot\"}},\"id\":\"85fa1060-4144-4e0e-8bb5-e932a7721ec7\",\"type\":\"ResetTool\"},{\"attributes\":{\"plot\":{\"id\":\"2616f914-0e4f-4292-b09e-4d23cddcf61a\",\"type\":\"GMapPlot\"}},\"id\":\"5b16806a-7a83-4627-bb45-17445f1af7c4\",\"type\":\"PanTool\"},{\"attributes\":{\"plot\":{\"id\":\"2616f914-0e4f-4292-b09e-4d23cddcf61a\",\"type\":\"GMapPlot\"}},\"id\":\"7f701f26-e29b-443c-b5f4-cc6aee65f174\",\"type\":\"WheelZoomTool\"},{\"attributes\":{\"callback\":null,\"plot\":{\"id\":\"2616f914-0e4f-4292-b09e-4d23cddcf61a\",\"type\":\"GMapPlot\"},\"tooltips\":[[\"Company \",\"@company\"]]},\"id\":\"e188a6a1-35f0-4faa-814d-1300a384d5b8\",\"type\":\"HoverTool\"},{\"attributes\":{\"map_options\":{\"lat\":37.4224497,\"lng\":-122.0840329,\"map_type\":\"roadmap\",\"zoom\":9},\"plot_width\":800,\"renderers\":[{\"id\":\"2bbdcf10-5885-4452-a907-7e57ca150025\",\"type\":\"GlyphRenderer\"},{\"id\":\"666d0562-09cd-48b1-a052-149c86fddaff\",\"type\":\"BoxAnnotation\"}],\"title\":\"Bay Area Companies\",\"tool_events\":{\"id\":\"d666bc25-49be-4861-94bb-b530c6acf7c0\",\"type\":\"ToolEvents\"},\"tools\":[{\"id\":\"5b16806a-7a83-4627-bb45-17445f1af7c4\",\"type\":\"PanTool\"},{\"id\":\"7f701f26-e29b-443c-b5f4-cc6aee65f174\",\"type\":\"WheelZoomTool\"},{\"id\":\"1f565b6d-36f2-49c5-b6da-17a931d6a660\",\"type\":\"BoxSelectTool\"},{\"id\":\"85fa1060-4144-4e0e-8bb5-e932a7721ec7\",\"type\":\"ResetTool\"},{\"id\":\"e188a6a1-35f0-4faa-814d-1300a384d5b8\",\"type\":\"HoverTool\"}],\"x_range\":{\"id\":\"53334228-07c8-4bfc-92f6-cca812007b74\",\"type\":\"DataRange1d\"},\"y_range\":{\"id\":\"155ad1c8-56a6-4e0f-9d54-6ee428b24c9c\",\"type\":\"DataRange1d\"}},\"id\":\"2616f914-0e4f-4292-b09e-4d23cddcf61a\",\"type\":\"GMapPlot\"},{\"attributes\":{},\"id\":\"d666bc25-49be-4861-94bb-b530c6acf7c0\",\"type\":\"ToolEvents\"},{\"attributes\":{\"callback\":null},\"id\":\"155ad1c8-56a6-4e0f-9d54-6ee428b24c9c\",\"type\":\"DataRange1d\"},{\"attributes\":{\"callback\":null},\"id\":\"53334228-07c8-4bfc-92f6-cca812007b74\",\"type\":\"DataRange1d\"},{\"attributes\":{\"data_source\":{\"id\":\"92abdfc4-4e77-4d0a-9697-ff6e49e25928\",\"type\":\"ColumnDataSource\"},\"glyph\":{\"id\":\"e166433f-167e-46f9-a5b1-e5f576eb27e7\",\"type\":\"Circle\"},\"hover_glyph\":null,\"nonselection_glyph\":null,\"selection_glyph\":null},\"id\":\"2bbdcf10-5885-4452-a907-7e57ca150025\",\"type\":\"GlyphRenderer\"},{\"attributes\":{\"callback\":null,\"column_names\":[\"lng\",\"lat\",\"company\"],\"data\":{\"company\":[\"Adobe Systems Incorporated\",\"Autodesk, Inc.\",\"Advanced Micro Devices, Inc.\",\"Agilent Technologies Inc\",\"Apple Inc.\",\"Brocade Communications Systems, Inc.\",\"Cisco Systems, Inc.\",\"Chevron Corporation\",\"Cooley LLP\",\"Electronic Arts Inc.\",\"Facebook Inc\",\"Fitbit Inc\",\"Alphabet Inc\",\"M. ARTHUR GENSLER JR. & ASSOCIATES, INC.\",\"Gilead Sciences, Inc.\",\"Greenplum, Inc.\",\"Guidewire Software Inc\",\"Hortonworks Inc\",\"Intuit Inc.\",\"Informatica LLC\",\"Intel Corporation\",\"LinkedIn Corp\",\"McKesson Corporation\",\"Square Inc\",\"HP Inc\",\"Trulia Inc\",\"NetApp Inc.\",\"NetSuite Inc\",\"Netflix, Inc.\",\"Omnicell, Inc.\",\"Oracle Corporation\",\"ORRICK, HERRINGTON & SUTCLIFFE, LLP\",\"Pure Storage Inc\",\"Robert Half International Inc.\",\"Charles Schwab Corp\",\"SanDisk Corporation\",\"Sanmina Corp\",\"SolarCity Corp\",\"Splunk Inc\",\"Symantec Corporation\",\"Synaptics, Incorporated\",\"Twitter Inc\",\"VMware, Inc.\",\"Visa Inc\",\"Workday Inc\",\"Wells Fargo & Co\",\"Yelp Inc\",\"eBay Inc\",\"salesforce.com, inc.\"],\"lat\":[37.3307355,38.0055244,37.3895297,37.3248859,37.3316936,37.4184823,37.4083511,37.7582505,37.4146246,37.5233409,37.483409,37.7885335,37.4223652,37.7894181,37.5669611,37.55267449999999,37.55939559999999,37.41330689999999,37.4306157,37.5113248,37.3875909,37.4233111,37.7887748,37.7752315,37.4120372,37.7888898,37.4112611,37.5365832,37.2596172,37.3951677,37.5306726,37.7885335,37.3880279,37.4219278,37.79058759999999,37.4188738,37.3900272,37.533444,37.7830522,37.3970363,37.3916556,37.7767902,37.4020858,37.6239079,37.6943905,37.79337659999999,37.7866839,37.2954483,37.7936027],\"lng\":[-121.8942276,-122.5307809,-122.0183914,-121.998857,-122.0302191,-121.9523256,-121.954079,-121.9580965,-122.1420634,-122.2540571,-122.1494548,-122.3950687,-122.084186,-122.3893191,-122.2816329,-122.2923474,-122.2718132,-121.9783999,-122.0960784,-122.2047802,-121.9637869,-122.0706458,-122.4026656,-122.4175278,-122.1484378,-122.3981036,-122.0119022,-122.3269981,-121.9626432,-122.0514384,-122.2624459,-122.3950687,-122.0830558,-122.2150953,-122.3928349,-121.9221472,-121.929548,-122.3307558,-122.39103,-122.0539377,-121.8909006,-122.4164055,-122.1446169,-122.3815924,-121.9213356,-122.4026201,-122.3998832,-121.9275001,-122.3945157]}},\"id\":\"92abdfc4-4e77-4d0a-9697-ff6e49e25928\",\"type\":\"ColumnDataSource\"},{\"attributes\":{\"fill_alpha\":{\"value\":0.8},\"fill_color\":{\"value\":\"blue\"},\"line_color\":{\"value\":null},\"size\":{\"units\":\"screen\",\"value\":15},\"x\":{\"field\":\"lng\"},\"y\":{\"field\":\"lat\"}},\"id\":\"e166433f-167e-46f9-a5b1-e5f576eb27e7\",\"type\":\"Circle\"},{\"attributes\":{\"callback\":null,\"overlay\":{\"id\":\"666d0562-09cd-48b1-a052-149c86fddaff\",\"type\":\"BoxAnnotation\"},\"plot\":{\"id\":\"2616f914-0e4f-4292-b09e-4d23cddcf61a\",\"type\":\"GMapPlot\"}},\"id\":\"1f565b6d-36f2-49c5-b6da-17a931d6a660\",\"type\":\"BoxSelectTool\"}],\"root_ids\":[\"2616f914-0e4f-4292-b09e-4d23cddcf61a\"]},\"title\":\"Bokeh Application\",\"version\":\"0.11.1\"}};\n",
       "            var render_items = [{\"docid\":\"b5c49c71-bfcd-4ec3-b81a-4f9903b2e550\",\"elementid\":\"f43cb703-63a3-41ec-a27a-49bbedef2d9b\",\"modelid\":\"2616f914-0e4f-4292-b09e-4d23cddcf61a\",\"notebook_comms_target\":\"2b9d39ff-440a-49c1-a180-fe8117f34df6\"}];\n",
       "            \n",
       "            Bokeh.embed.embed_items(docs_json, render_items);\n",
       "        });\n",
       "      },\n",
       "      function(Bokeh) {\n",
       "      }\n",
       "    ];\n",
       "  \n",
       "    function run_inline_js() {\n",
       "      for (var i = 0; i < inline_js.length; i++) {\n",
       "        inline_js[i](window.Bokeh);\n",
       "      }\n",
       "    }\n",
       "  \n",
       "    if (window._bokeh_is_loading === 0) {\n",
       "      console.log(\"Bokeh: BokehJS loaded, going straight to plotting\");\n",
       "      run_inline_js();\n",
       "    } else {\n",
       "      load_libs(js_urls, function() {\n",
       "        console.log(\"Bokeh: BokehJS plotting callback run at\", now());\n",
       "        run_inline_js();\n",
       "      });\n",
       "    }\n",
       "  }(this));\n",
       "</script>"
      ]
     },
     "metadata": {},
     "output_type": "display_data"
    },
    {
     "data": {
      "text/html": [
       "<p><code>&lt;Bokeh Notebook handle for <strong>In[38]</strong>&gt;</code></p>"
      ],
      "text/plain": [
       "<bokeh.io._CommsHandle at 0x7fe90115d080>"
      ]
     },
     "execution_count": 38,
     "metadata": {},
     "output_type": "execute_result"
    }
   ],
   "source": [
    "show(plot)"
   ]
  },
  {
   "cell_type": "code",
   "execution_count": null,
   "metadata": {
    "collapsed": true
   },
   "outputs": [],
   "source": []
  }
 ],
 "metadata": {
  "kernelspec": {
   "display_name": "Python 3",
   "language": "python",
   "name": "python3"
  },
  "language_info": {
   "codemirror_mode": {
    "name": "ipython",
    "version": 3
   },
   "file_extension": ".py",
   "mimetype": "text/x-python",
   "name": "python",
   "nbconvert_exporter": "python",
   "pygments_lexer": "ipython3",
   "version": "3.4.3"
  }
 },
 "nbformat": 4,
 "nbformat_minor": 0
}
